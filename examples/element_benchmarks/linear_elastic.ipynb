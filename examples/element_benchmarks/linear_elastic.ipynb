{
 "cells": [
  {
   "cell_type": "code",
   "execution_count": null,
   "metadata": {},
   "outputs": [],
   "source": [
    "%load_ext autoreload\n",
    "%autoreload 2\n",
    "\n",
    "import jax.numpy as jnp\n",
    "import jax\n",
    "import matplotlib.pyplot as plt\n",
    "import pymudokon as pm"
   ]
  },
  {
   "cell_type": "code",
   "execution_count": null,
   "metadata": {},
   "outputs": [],
   "source": [
    "total_time = 25.0\n",
    "timestep = 0.01\n",
    "strain_target = 0.005\n",
    "num_steps = int(total_time/timestep)\n",
    "\n",
    "\n",
    "strain_target_list = -jnp.linspace(0,strain_target,num_steps)\n",
    "\n",
    "eps_path = jnp.vstack([strain_target_list,strain_target_list]) # 2 x particles\n"
   ]
  },
  {
   "cell_type": "code",
   "execution_count": null,
   "metadata": {},
   "outputs": [],
   "source": []
  },
  {
   "cell_type": "code",
   "execution_count": null,
   "metadata": {},
   "outputs": [],
   "source": [
    "\n",
    "stress_ref = jnp.tile(-100000.0*jnp.eye(3), (2, 1, 1))\n",
    "\n",
    "material = pm.ModifiedCamClay.register(\n",
    "    E = 5e7,\n",
    "    nu = 0.3,\n",
    "    M = 1.2,\n",
    "    lam = 0.062,\n",
    "    kap = 0.0055,\n",
    "    Vs = 0.6,\n",
    "    R = 1.0,\n",
    "    stress_ref= stress_ref,\n",
    "    num_particles =2\n",
    ")\n",
    "\n",
    "# jax.make_jaxpr(material.update_stress_benchmark)(\n",
    "#     jnp.zeros((2,3,3)),\n",
    "#     0.1,\n",
    "#     False\n",
    "# )"
   ]
  },
  {
   "cell_type": "code",
   "execution_count": null,
   "metadata": {},
   "outputs": [],
   "source": [
    "\n",
    "store, material = pm.simple_shear(material,eps_path,timestep,results_to_store= [\"eps_e\"] )\n"
   ]
  },
  {
   "cell_type": "code",
   "execution_count": null,
   "metadata": {},
   "outputs": [],
   "source": [
    "stress_list = store[\"stress\"][:,0,:].to_numpy()\n",
    "strain_list = store[\"eps_path\"][:,0,:].to_numpy()\n",
    "\n",
    "print(stress_list)\n",
    "fig_tg, ax_tg = plt.subplots()\n",
    "fig_pq, ax_pq = plt.subplots()\n",
    "\n",
    "pm.plot_tau_gamma(\n",
    "    stress_list,\n",
    "    strain_list,\n",
    "    fig_ax = (fig_tg,ax_tg),\n",
    "    plot_options={\"linewidth\":2.0,\"ls\":\"--\"}\n",
    ")\n",
    "\n",
    "pm.plot_q_p(\n",
    "    stress_list,\n",
    "    fig_ax = (fig_pq,ax_pq),\n",
    "    plot_options={\"linewidth\":2.0,\"ls\":\"--\"}\n",
    "    )"
   ]
  },
  {
   "cell_type": "code",
   "execution_count": null,
   "metadata": {},
   "outputs": [],
   "source": [
    "# material = pm.LinearIsotropicElastic.register(1000,0.3,2,3)"
   ]
  },
  {
   "cell_type": "code",
   "execution_count": null,
   "metadata": {},
   "outputs": [],
   "source": [
    "\n",
    "\n",
    "# store, material = pm.simple_shear(material,eps_path,0.01,results_to_store= [\"eps_e\"] )\n"
   ]
  },
  {
   "cell_type": "code",
   "execution_count": null,
   "metadata": {},
   "outputs": [],
   "source": [
    "# stress_list = store[\"stress\"][:,0,:].to_numpy()\n",
    "# strain_list = store[\"eps_path\"][:,0,:].to_numpy()\n",
    "\n",
    "# print(stress_list)\n",
    "# fig_tg, ax_tg = plt.subplots()\n",
    "# fig_pq, ax_pq = plt.subplots()\n",
    "\n",
    "# pm.plot_tau_gamma(\n",
    "#     stress_list,\n",
    "#     strain_list,\n",
    "#     fig_ax = (fig_tg,ax_tg),\n",
    "#     plot_options={\"linewidth\":2.0,\"ls\":\"--\"}\n",
    "# )\n",
    "\n",
    "# pm.plot_q_p(\n",
    "#     stress_list,\n",
    "#     fig_ax = (fig_pq,ax_pq),\n",
    "#     plot_options={\"linewidth\":2.0,\"ls\":\"--\"}\n",
    "#     )"
   ]
  },
  {
   "cell_type": "code",
   "execution_count": null,
   "metadata": {},
   "outputs": [],
   "source": []
  },
  {
   "cell_type": "code",
   "execution_count": null,
   "metadata": {},
   "outputs": [],
   "source": []
  },
  {
   "cell_type": "code",
   "execution_count": null,
   "metadata": {},
   "outputs": [],
   "source": [
    "stress_list = store[\"stress\"][:,0,:].to_numpy()\n",
    "strain_list = store[\"eps_path\"][:,0,:].to_numpy()\n",
    "\n",
    "print(stress_list)\n",
    "fig_tg, ax_tg = plt.subplots()\n",
    "fig_pq, ax_pq = plt.subplots()\n",
    "\n",
    "pm.plot_tau_gamma(\n",
    "    stress_list,\n",
    "    strain_list,\n",
    "    fig_ax = (fig_tg,ax_tg),\n",
    "    plot_options={\"linewidth\":2.0,\"ls\":\"--\"}\n",
    ")\n",
    "\n",
    "pm.plot_q_p(\n",
    "    stress_list,\n",
    "    fig_ax = (fig_pq,ax_pq),\n",
    "    plot_options={\"linewidth\":2.0,\"ls\":\"--\"}\n",
    "    )"
   ]
  },
  {
   "cell_type": "code",
   "execution_count": null,
   "metadata": {},
   "outputs": [],
   "source": []
  }
 ],
 "metadata": {
  "kernelspec": {
   "display_name": "Python 3",
   "language": "python",
   "name": "python3"
  },
  "language_info": {
   "codemirror_mode": {
    "name": "ipython",
    "version": 3
   },
   "file_extension": ".py",
   "mimetype": "text/x-python",
   "name": "python",
   "nbconvert_exporter": "python",
   "pygments_lexer": "ipython3",
   "version": "3.10.12"
  }
 },
 "nbformat": 4,
 "nbformat_minor": 2
}
