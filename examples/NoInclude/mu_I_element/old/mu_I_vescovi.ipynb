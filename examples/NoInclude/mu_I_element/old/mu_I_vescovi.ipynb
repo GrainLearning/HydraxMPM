{
 "cells": [
  {
   "cell_type": "code",
   "execution_count": 2,
   "metadata": {},
   "outputs": [],
   "source": [
    "\n",
    "%load_ext autoreload\n",
    "%autoreload 2\n",
    "\n",
    "import jax.numpy as jnp\n",
    "import jax\n",
    "import matplotlib.pyplot as plt\n",
    "import pymudokon as pm\n",
    "\n",
    "jax.config.update('jax_platform_name', 'cpu')\n",
    "\n"
   ]
  },
  {
   "cell_type": "code",
   "execution_count": 1,
   "metadata": {},
   "outputs": [
    {
     "ename": "NameError",
     "evalue": "name 'pm' is not defined",
     "output_type": "error",
     "traceback": [
      "\u001b[0;31m---------------------------------------------------------------------------\u001b[0m",
      "\u001b[0;31mNameError\u001b[0m                                 Traceback (most recent call last)",
      "Cell \u001b[0;32mIn[1], line 1\u001b[0m\n\u001b[0;32m----> 1\u001b[0m carry, accumulate \u001b[38;5;241m=\u001b[39m \u001b[43mpm\u001b[49m\u001b[38;5;241m.\u001b[39msimple_shear_wrapper(\n\u001b[1;32m      2\u001b[0m     pm\u001b[38;5;241m.\u001b[39mMuI,\n\u001b[1;32m      3\u001b[0m     [\n\u001b[1;32m      4\u001b[0m         jnp\u001b[38;5;241m.\u001b[39mtan(jnp\u001b[38;5;241m.\u001b[39mdeg2rad(\u001b[38;5;241m20.9\u001b[39m)),  \u001b[38;5;66;03m# mu_s 0.381..\u001b[39;00m\n\u001b[1;32m      5\u001b[0m         jnp\u001b[38;5;241m.\u001b[39mtan(jnp\u001b[38;5;241m.\u001b[39mdeg2rad(\u001b[38;5;241m32.76\u001b[39m)), \u001b[38;5;66;03m# mu_d 0.643..\u001b[39;00m\n\u001b[1;32m      6\u001b[0m         \u001b[38;5;241m0.279\u001b[39m, \u001b[38;5;66;03m# I0\u001b[39;00m\n\u001b[1;32m      7\u001b[0m         \u001b[38;5;241m0.648\u001b[39m, \u001b[38;5;66;03m# phi_c\u001b[39;00m\n\u001b[1;32m      8\u001b[0m         \u001b[38;5;241m0.5\u001b[39m, \u001b[38;5;66;03m# I_phi\u001b[39;00m\n\u001b[1;32m      9\u001b[0m         \u001b[38;5;241m2000\u001b[39m, \u001b[38;5;66;03m# rho p (kg/m^3)\u001b[39;00m\n\u001b[1;32m     10\u001b[0m         \u001b[38;5;241m0.0053\u001b[39m, \u001b[38;5;66;03m# d (m)\u001b[39;00m\n\u001b[1;32m     11\u001b[0m     ],\n\u001b[1;32m     12\u001b[0m     target\u001b[38;5;241m=\u001b[39m\u001b[38;5;241m10.0\u001b[39m,\n\u001b[1;32m     13\u001b[0m     target_start\u001b[38;5;241m=\u001b[39m\u001b[38;5;241m0.01\u001b[39m,\n\u001b[1;32m     14\u001b[0m     dt\u001b[38;5;241m=\u001b[39m\u001b[38;5;241m1e-3\u001b[39m,\n\u001b[1;32m     15\u001b[0m     stress_ref\u001b[38;5;241m=\u001b[39m \u001b[38;5;241m-\u001b[39m\u001b[38;5;241m1000.0\u001b[39m \u001b[38;5;241m*\u001b[39m jnp\u001b[38;5;241m.\u001b[39meye(\u001b[38;5;241m3\u001b[39m)\u001b[38;5;241m.\u001b[39mreshape(\u001b[38;5;241m3\u001b[39m, \u001b[38;5;241m3\u001b[39m),\n\u001b[1;32m     16\u001b[0m     volume_fraction\u001b[38;5;241m=\u001b[39m\u001b[38;5;241m0.7\u001b[39m,\n\u001b[1;32m     17\u001b[0m     keys\u001b[38;5;241m=\u001b[39m(\u001b[38;5;124m\"\u001b[39m\u001b[38;5;124mstress\u001b[39m\u001b[38;5;124m\"\u001b[39m, \u001b[38;5;124m\"\u001b[39m\u001b[38;5;124mstrain_rate\u001b[39m\u001b[38;5;124m\"\u001b[39m,\u001b[38;5;124m\"\u001b[39m\u001b[38;5;124mvolume_fraction\u001b[39m\u001b[38;5;124m\"\u001b[39m),\n\u001b[1;32m     18\u001b[0m     store_every \u001b[38;5;241m=\u001b[39m \u001b[38;5;241m1\u001b[39m,\n\u001b[1;32m     19\u001b[0m     is_target_strain_rate\u001b[38;5;241m=\u001b[39m \u001b[38;5;28;01mFalse\u001b[39;00m,\n\u001b[1;32m     20\u001b[0m     total_time\u001b[38;5;241m=\u001b[39m\u001b[38;5;241m1.0\u001b[39m,\n\u001b[1;32m     21\u001b[0m )\n\u001b[1;32m     23\u001b[0m stress_stack, strain_rate_stack,  volume_fraction_stack \u001b[38;5;241m=\u001b[39m accumulate\n\u001b[1;32m     25\u001b[0m fig_ax_stack \u001b[38;5;241m=\u001b[39m pm\u001b[38;5;241m.\u001b[39mplot_suite(\n\u001b[1;32m     26\u001b[0m     \u001b[38;5;124m\"\u001b[39m\u001b[38;5;124m./output/mu_I_ss_\u001b[39m\u001b[38;5;124m\"\u001b[39m,\n\u001b[1;32m     27\u001b[0m     strain_rate_stack,\n\u001b[0;32m   (...)\u001b[0m\n\u001b[1;32m     30\u001b[0m     dt \u001b[38;5;241m=\u001b[39m \u001b[38;5;241m1e-3\u001b[39m\n\u001b[1;32m     31\u001b[0m     )\n",
      "\u001b[0;31mNameError\u001b[0m: name 'pm' is not defined"
     ]
    }
   ],
   "source": [
    "\n",
    "carry, accumulate = pm.simple_shear_wrapper(\n",
    "    pm.MuI,\n",
    "    [\n",
    "        jnp.tan(jnp.deg2rad(20.9)),  # mu_s 0.381..\n",
    "        jnp.tan(jnp.deg2rad(32.76)), # mu_d 0.643..\n",
    "        0.279, # I0\n",
    "        0.648, # phi_c\n",
    "        0.5, # I_phi\n",
    "        2000, # rho p (kg/m^3)\n",
    "        0.0053, # d (m)\n",
    "    ],\n",
    "    target=10.0,\n",
    "    target_start=0.01,\n",
    "    dt=1e-3,\n",
    "    stress_ref= -1000.0 * jnp.eye(3).reshape(3, 3),\n",
    "    volume_fraction=0.7,\n",
    "    keys=(\"stress\", \"strain_rate\",\"volume_fraction\"),\n",
    "    store_every = 1,\n",
    "    is_target_strain_rate= False,\n",
    "    total_time=1.0,\n",
    ")\n",
    "\n",
    "stress_stack, strain_rate_stack,  volume_fraction_stack = accumulate\n",
    "\n",
    "fig_ax_stack = pm.plot_suite(\n",
    "    \"./output/mu_I_ss_\",\n",
    "    strain_rate_stack,\n",
    "    stress_stack,\n",
    "    volume_fraction_stack,\n",
    "    dt = 1e-3\n",
    "    )\n"
   ]
  },
  {
   "cell_type": "code",
   "execution_count": 41,
   "metadata": {},
   "outputs": [
    {
     "name": "stdout",
     "output_type": "stream",
     "text": [
      "(25000,)\n"
     ]
    }
   ],
   "source": [
    "# import partial\n",
    "# import vmap\n",
    "\n",
    "# @partial(jax.vmap, in_axes=(0, 0, None, None), out_axes=(0))\n",
    "# def get_I(shear_strain_rate, p, d0,rho_p):\n",
    "    \n",
    "    \n",
    "#     volumetric_strain_rate = -jnp.trace(shear_strain_rate)  # compressive strain rate is positive\n",
    "\n",
    "#     deviatoric_strain_rate = shear_strain_rate + (1 / 3.0) * volumetric_strain_rate * jnp.eye(3)\n",
    "\n",
    "#     dgamma_dt = jnp.sqrt(0.5 * (deviatoric_strain_rate @ deviatoric_strain_rate.T).trace())\n",
    "    \n",
    "\n",
    "\n",
    "def get_I(stress_stack, strain_rate_stack,d,rho_p):\n",
    "    \n",
    "    p_stack = pm.get_pressure(stress_stack)\n",
    "    dgamma_dt = pm.get_gamma(strain_rate_stack)\n",
    "    print(p_stack.shape)\n",
    "    vmap_get_I = jax.vmap(lambda dgamma_dt,p: (dgamma_dt*d)/jnp.sqrt(p/rho_p), in_axes=(0,0))\n",
    "    return vmap_get_I(dgamma_dt,p_stack)\n",
    "\n",
    "I_stack = get_I(stress_stack, strain_rate_stack, 0.0053, 2000)\n",
    "\n",
    "q_stack = pm.get_q_vm(stress_stack)\n",
    "\n",
    "p_stack = pm.get_pressure(stress_stack)\n",
    "\n",
    "\n",
    "mu_stack = (q_stack/p_stack)/jnp.sqrt(3)"
   ]
  },
  {
   "cell_type": "code",
   "execution_count": 47,
   "metadata": {},
   "outputs": [
    {
     "data": {
      "text/plain": [
       "[<matplotlib.lines.Line2D at 0x7f7394773880>]"
      ]
     },
     "execution_count": 47,
     "metadata": {},
     "output_type": "execute_result"
    },
    {
     "data": {
      "image/png": "[encoded data removed]",
      "text/plain": [
       "<Figure size 640x480 with 1 Axes>"
      ]
     },
     "metadata": {},
     "output_type": "display_data"
    }
   ],
   "source": [
    "import matplotlib.pyplot as plt\n",
    "\n",
    "plt.plot(p_stack,q_stack)\n"
   ]
  },
  {
   "cell_type": "code",
   "execution_count": 43,
   "metadata": {},
   "outputs": [
    {
     "data": {
      "text/plain": [
       "(Array(0.33986446, dtype=float32), Array(0.33986464, dtype=float32))"
      ]
     },
     "execution_count": 43,
     "metadata": {},
     "output_type": "execute_result"
    }
   ],
   "source": [
    "mu_stack.min(),mu_stack.max()"
   ]
  },
  {
   "cell_type": "code",
   "execution_count": 45,
   "metadata": {},
   "outputs": [
    {
     "data": {
      "text/plain": [
       "(Array(0.05458128, dtype=float32), Array(0.05458131, dtype=float32))"
      ]
     },
     "execution_count": 45,
     "metadata": {},
     "output_type": "execute_result"
    }
   ],
   "source": [
    "I_stack.min(),I_stack.max()"
   ]
  },
  {
   "cell_type": "code",
   "execution_count": null,
   "metadata": {},
   "outputs": [],
   "source": []
  }
 ],
 "metadata": {
  "kernelspec": {
   "display_name": ".venv",
   "language": "python",
   "name": "python3"
  },
  "language_info": {
   "codemirror_mode": {
    "name": "ipython",
    "version": 3
   },
   "file_extension": ".py",
   "mimetype": "text/x-python",
   "name": "python",
   "nbconvert_exporter": "python",
   "pygments_lexer": "ipython3",
   "version": "3.10.12"
  }
 },
 "nbformat": 4,
 "nbformat_minor": 2
}
