{
 "cells": [
  {
   "cell_type": "code",
   "execution_count": null,
   "metadata": {},
   "outputs": [],
   "source": [
    "# Code to be revised"
   ]
  },
  {
   "cell_type": "code",
   "execution_count": 80,
   "metadata": {
    "notebookRunGroups": {
     "groupValue": "1"
    }
   },
   "outputs": [
    {
     "name": "stdout",
     "output_type": "stream",
     "text": [
      "The autoreload extension is already loaded. To reload it, use:\n",
      "  %reload_ext autoreload\n"
     ]
    }
   ],
   "source": [
    "%load_ext autoreload\n",
    "%autoreload 2\n",
    "\n",
    "import jax.numpy as jnp\n",
    "import jax                                              \n",
    "import matplotlib.pyplot as plt\n",
    "import pymudokon as pm\n",
    "# jax.config.update(\"jax_enable_x64\", True)\n",
    "plt.style.use(\"dark_background\")\n",
    "jax.config.update('jax_platform_name', 'cpu')\n"
   ]
  },
  {
   "cell_type": "markdown",
   "metadata": {},
   "source": []
  },
  {
   "cell_type": "code",
   "execution_count": 81,
   "metadata": {
    "notebookRunGroups": {
     "groupValue": "1"
    }
   },
   "outputs": [],
   "source": [
    "stress_list = None\n",
    "strain_list = None\n",
    "@jax.tree_util.Partial\n",
    "def save_data(package):\n",
    "    global stress_list, strain_list\n",
    "    step, stress, material, eps, *_ = package\n",
    "    \n",
    "    if stress_list is None:\n",
    "        stress_list = stress\n",
    "    else:\n",
    "        stress_list = jnp.concat((stress_list, stress), axis=0)\n",
    "    \n",
    "    if strain_list is None:\n",
    "        strain_list = eps\n",
    "    else:\n",
    "        strain_list = jnp.concat((strain_list, eps), axis=0)\n",
    "    \n",
    "    print(f\"Step: {step}\")\n",
    "\n",
    "\n",
    "total_time = 25.0\n",
    "\n",
    "timestep = 0.01\n",
    "\n",
    "strain_target =0.5\n",
    "num_steps = int(total_time/timestep)\n",
    "\n",
    "eps_path = -jnp.linspace(0,strain_target,num_steps)\n",
    "\n",
    "num_opt_iter = 20\n",
    "triax_learning_rate = (eps_path[1]-eps_path[0])\n"
   ]
  },
  {
   "cell_type": "code",
   "execution_count": 82,
   "metadata": {},
   "outputs": [
    {
     "data": {
      "text/plain": [
       "Array([[[0, 1, 2],\n",
       "        [3, 4, 5],\n",
       "        [6, 7, 8]]], dtype=int32)"
      ]
     },
     "execution_count": 82,
     "metadata": {},
     "output_type": "execute_result"
    }
   ],
   "source": [
    "jnp.arange(0,9).reshape((1,3,3,))"
   ]
  },
  {
   "cell_type": "markdown",
   "metadata": {},
   "source": [
    "triax_learning_rate"
   ]
  },
  {
   "cell_type": "code",
   "execution_count": 83,
   "metadata": {},
   "outputs": [
    {
     "data": {
      "text/plain": [
       "Array(-0.00020008, dtype=float32)"
      ]
     },
     "execution_count": 83,
     "metadata": {},
     "output_type": "execute_result"
    }
   ],
   "source": [
    "triax_learning_rate"
   ]
  },
  {
   "cell_type": "code",
   "execution_count": 84,
   "metadata": {},
   "outputs": [
    {
     "data": {
      "text/plain": [
       "Array([4, 8], dtype=int32)"
      ]
     },
     "execution_count": 84,
     "metadata": {},
     "output_type": "execute_result"
    }
   ],
   "source": [
    "# eps_path\n",
    "jnp.arange(0,9).reshape((1,3,3,)).at[0,(1,2),(1,2)].get()"
   ]
  },
  {
   "cell_type": "code",
   "execution_count": 85,
   "metadata": {},
   "outputs": [
    {
     "name": "stdout",
     "output_type": "stream",
     "text": [
      "Step: 0\n",
      "Step: 10\n",
      "Step: 20\n",
      "Step: 30\n",
      "Step: 40\n",
      "Step: 50\n",
      "Step: 60\n",
      "Step: 70\n",
      "Step: 80\n",
      "Step: 90\n",
      "Step: 100\n",
      "Step: 110\n",
      "Step: 120\n",
      "Step: 130\n",
      "Step: 140\n",
      "Step: 150\n",
      "Step: 160\n",
      "Step: 170\n",
      "Step: 180\n",
      "Step: 190\n",
      "Step: 200\n",
      "Step: 210\n",
      "Step: 220\n",
      "Step: 230\n",
      "Step: 240\n",
      "Step: 250\n",
      "Step: 260\n",
      "Step: 270\n",
      "Step: 280\n",
      "Step: 290\n",
      "Step: 300\n",
      "Step: 310\n",
      "Step: 320\n",
      "Step: 330\n",
      "Step: 340\n",
      "Step: 350\n",
      "Step: 360\n",
      "Step: 370\n",
      "Step: 380\n",
      "Step: 390\n",
      "Step: 400\n",
      "Step: 410\n",
      "Step: 420\n",
      "Step: 430\n",
      "Step: 440\n",
      "Step: 450\n",
      "Step: 460\n",
      "Step: 470\n",
      "Step: 480\n",
      "Step: 490\n",
      "Step: 500\n",
      "Step: 510\n",
      "Step: 520\n",
      "Step: 530\n",
      "Step: 540\n",
      "Step: 550\n",
      "Step: 560\n",
      "Step: 570\n",
      "Step: 580\n",
      "Step: 590\n",
      "Step: 600\n",
      "Step: 610\n",
      "Step: 620\n",
      "Step: 630\n",
      "Step: 640\n",
      "Step: 650\n",
      "Step: 660\n",
      "Step: 670\n",
      "Step: 680\n",
      "Step: 690\n",
      "Step: 700\n",
      "Step: 710\n",
      "Step: 720\n",
      "Step: 730\n",
      "Step: 740\n",
      "Step: 750\n",
      "Step: 760\n",
      "Step: 770\n",
      "Step: 780\n",
      "Step: 790\n",
      "Step: 800\n",
      "Step: 810\n",
      "Step: 820\n",
      "Step: 830\n",
      "Step: 840\n",
      "Step: 850\n",
      "Step: 860\n",
      "Step: 870\n",
      "Step: 880\n",
      "Step: 890\n",
      "Step: 900\n",
      "Step: 910\n",
      "Step: 920\n",
      "Step: 930\n",
      "Step: 940\n",
      "Step: 950\n",
      "Step: 960\n",
      "Step: 970\n",
      "Step: 980\n",
      "Step: 990\n",
      "Step: 1000\n",
      "Step: 1010\n",
      "Step: 1020\n",
      "Step: 1030\n",
      "Step: 1040\n",
      "Step: 1050\n",
      "Step: 1060\n",
      "Step: 1070\n",
      "Step: 1080\n",
      "Step: 1090\n",
      "Step: 1100\n",
      "Step: 1110\n",
      "Step: 1120\n",
      "Step: 1130\n",
      "Step: 1140\n",
      "Step: 1150\n",
      "Step: 1160\n",
      "Step: 1170\n",
      "Step: 1180\n",
      "Step: 1190\n",
      "Step: 1200\n",
      "Step: 1210\n",
      "Step: 1220\n",
      "Step: 1230\n",
      "Step: 1240\n",
      "Step: 1250\n",
      "Step: 1260\n",
      "Step: 1270\n",
      "Step: 1280\n",
      "Step: 1290\n",
      "Step: 1300\n",
      "Step: 1310\n",
      "Step: 1320\n",
      "Step: 1330\n",
      "Step: 1340\n",
      "Step: 1350\n",
      "Step: 1360\n",
      "Step: 1370\n",
      "Step: 1380\n",
      "Step: 1390\n",
      "Step: 1400\n",
      "Step: 1410\n",
      "Step: 1420\n",
      "Step: 1430\n",
      "Step: 1440\n",
      "Step: 1450\n",
      "Step: 1460\n",
      "Step: 1470\n",
      "Step: 1480\n",
      "Step: 1490\n",
      "Step: 1500\n",
      "Step: 1510\n",
      "Step: 1520\n",
      "Step: 1530\n",
      "Step: 1540\n",
      "Step: 1550\n",
      "Step: 1560\n",
      "Step: 1570\n",
      "Step: 1580\n",
      "Step: 1590\n",
      "Step: 1600\n",
      "Step: 1610\n",
      "Step: 1620\n",
      "Step: 1630\n",
      "Step: 1640\n",
      "Step: 1650\n",
      "Step: 1660\n",
      "Step: 1670\n",
      "Step: 1680\n",
      "Step: 1690\n",
      "Step: 1700\n",
      "Step: 1710\n",
      "Step: 1720\n",
      "Step: 1730\n",
      "Step: 1740\n",
      "Step: 1750\n",
      "Step: 1760\n",
      "Step: 1770\n",
      "Step: 1780\n",
      "Step: 1790\n",
      "Step: 1800\n",
      "Step: 1810\n",
      "Step: 1820\n",
      "Step: 1830\n",
      "Step: 1840\n",
      "Step: 1850\n",
      "Step: 1860\n",
      "Step: 1870\n",
      "Step: 1880\n",
      "Step: 1890\n",
      "Step: 1900\n",
      "Step: 1910\n",
      "Step: 1920\n",
      "Step: 1930\n",
      "Step: 1940\n",
      "Step: 1950\n",
      "Step: 1960\n",
      "Step: 1970\n",
      "Step: 1980\n",
      "Step: 1990\n",
      "Step: 2000\n",
      "Step: 2010\n",
      "Step: 2020\n",
      "Step: 2030\n",
      "Step: 2040\n",
      "Step: 2050\n",
      "Step: 2060\n",
      "Step: 2070\n",
      "Step: 2080\n",
      "Step: 2090\n",
      "Step: 2100\n",
      "Step: 2110\n",
      "Step: 2120\n",
      "Step: 2130\n",
      "Step: 2140\n",
      "Step: 2150\n",
      "Step: 2160\n",
      "Step: 2170\n",
      "Step: 2180\n",
      "Step: 2190\n",
      "Step: 2200\n",
      "Step: 2210\n",
      "Step: 2220\n",
      "Step: 2230\n",
      "Step: 2240\n",
      "Step: 2250\n",
      "Step: 2260\n",
      "Step: 2270\n",
      "Step: 2280\n",
      "Step: 2290\n",
      "Step: 2300\n",
      "Step: 2310\n",
      "Step: 2320\n",
      "Step: 2330\n",
      "Step: 2340\n",
      "Step: 2350\n",
      "Step: 2360\n",
      "Step: 2370\n",
      "Step: 2380\n",
      "Step: 2390\n",
      "Step: 2400\n",
      "Step: 2410\n",
      "Step: 2420\n",
      "Step: 2430\n",
      "Step: 2440\n",
      "Step: 2450\n",
      "Step: 2460\n",
      "Step: 2470\n",
      "Step: 2480\n",
      "Step: 2490\n"
     ]
    }
   ],
   "source": [
    "\n",
    "stress_ref = -100000.0*jnp.eye(3).reshape(1,3,3)\n",
    "\n",
    "volumes = jnp.ones(1)\n",
    "\n",
    "material = pm.ModifiedCamClay.register(\n",
    "    E = 5e6,\n",
    "    nu = 0.3,\n",
    "    M = 1.2,\n",
    "    lam = 0.062,\n",
    "    kap = 0.0055,\n",
    "    Vs = 1.0,\n",
    "    R = 3.0,\n",
    "    stress_ref= stress_ref,\n",
    "    num_particles =1\n",
    ")\n",
    "\n",
    "# material = pm.LinearIsotropicElastic.register(E=1e7, nu=0.3, num_particles=1, stress_ref= stress_ref, dim=3)\n",
    "\n",
    "\n",
    "material = pm.triaxial_compression(\n",
    "    material = material, \n",
    "    eps_path = eps_path[1:],\n",
    "    confine = 100000,\n",
    "    prestress = stress_ref,\n",
    "    prestrain = jnp.zeros((1, 3, 3)),\n",
    "    volumes = jnp.ones(1),\n",
    "    dt = timestep, \n",
    "    output_step = 10,\n",
    "    output_function = save_data,\n",
    "    triax_learning_rate = 1e-3,\n",
    "    num_opt_iter = 100)"
   ]
  },
  {
   "cell_type": "code",
   "execution_count": 86,
   "metadata": {},
   "outputs": [
    {
     "data": {
      "image/png": "[encoded data removed]",
      "text/plain": [
       "<Figure size 640x480 with 9 Axes>"
      ]
     },
     "metadata": {},
     "output_type": "display_data"
    },
    {
     "data": {
      "image/png": "[encoded data removed]",
      "text/plain": [
       "<Figure size 640x480 with 9 Axes>"
      ]
     },
     "metadata": {},
     "output_type": "display_data"
    },
    {
     "data": {
      "image/png": "[encoded data removed]",
      "text/plain": [
       "<Figure size 640x480 with 1 Axes>"
      ]
     },
     "metadata": {},
     "output_type": "display_data"
    },
    {
     "data": {
      "image/png": "[encoded data removed]",
      "text/plain": [
       "<Figure size 640x480 with 1 Axes>"
      ]
     },
     "metadata": {},
     "output_type": "display_data"
    }
   ],
   "source": [
    "pm.plot_strain_grid(\n",
    "    strain_list,\n",
    "    plot_options={\"linewidth\":2.0,\"ls\":\"--\"}\n",
    ")\n",
    "\n",
    "pm.plot_stress_grid(\n",
    "    stress_list,\n",
    "    plot_options={\"linewidth\":2.0,\"ls\":\"--\"}\n",
    ")\n",
    "pm.plot_tau_gamma(\n",
    "    stress_list,\n",
    "    strain_list,\n",
    "    plot_options={\"linewidth\":2.0,\"ls\":\"--\"}\n",
    ")\n",
    "\n",
    "pm.plot_q_p(\n",
    "    stress_list,\n",
    "    plot_options={\"linewidth\":2.0,\"ls\":\"--\"}\n",
    "    )\n"
   ]
  },
  {
   "cell_type": "code",
   "execution_count": 87,
   "metadata": {},
   "outputs": [],
   "source": [
    "pressure_list = -(1 / 3.0) * (\n",
    "        stress_list.at[:, 0, 0].get() + stress_list.at[:, 1, 1].get() + stress_list.at[:, 1, 1].get()\n",
    ")"
   ]
  },
  {
   "cell_type": "code",
   "execution_count": 88,
   "metadata": {},
   "outputs": [],
   "source": [
    "dev_stress_list = stress_list + jnp.identity(3) * pressure_list.reshape(-1, 1, 1)"
   ]
  },
  {
   "cell_type": "code",
   "execution_count": 89,
   "metadata": {},
   "outputs": [],
   "source": [
    "q_vm_list = jnp.array(\n",
    "    list(\n",
    "        map(\n",
    "            lambda s: jnp.sqrt(3 * 0.5 * jnp.trace(s @ s.T)),\n",
    "            dev_stress_list,\n",
    "        ),\n",
    "    ),\n",
    ")"
   ]
  },
  {
   "cell_type": "code",
   "execution_count": 90,
   "metadata": {},
   "outputs": [
    {
     "data": {
      "text/plain": [
       "Array(3.003276, dtype=float32)"
      ]
     },
     "execution_count": 90,
     "metadata": {},
     "output_type": "execute_result"
    }
   ],
   "source": [
    "(q_vm_list[1]-q_vm_list[0])/(pressure_list[1]-pressure_list[0])"
   ]
  },
  {
   "cell_type": "code",
   "execution_count": 91,
   "metadata": {},
   "outputs": [
    {
     "data": {
      "text/plain": [
       "0.3333333333333333"
      ]
     },
     "execution_count": 91,
     "metadata": {},
     "output_type": "execute_result"
    }
   ],
   "source": [
    "1/3"
   ]
  },
  {
   "cell_type": "code",
   "execution_count": null,
   "metadata": {},
   "outputs": [],
   "source": []
  },
  {
   "cell_type": "code",
   "execution_count": null,
   "metadata": {},
   "outputs": [],
   "source": []
  },
  {
   "cell_type": "code",
   "execution_count": null,
   "metadata": {},
   "outputs": [],
   "source": []
  },
  {
   "cell_type": "code",
   "execution_count": null,
   "metadata": {},
   "outputs": [],
   "source": []
  },
  {
   "cell_type": "code",
   "execution_count": null,
   "metadata": {},
   "outputs": [],
   "source": []
  },
  {
   "cell_type": "code",
   "execution_count": null,
   "metadata": {},
   "outputs": [],
   "source": []
  },
  {
   "cell_type": "code",
   "execution_count": null,
   "metadata": {},
   "outputs": [],
   "source": []
  },
  {
   "cell_type": "code",
   "execution_count": null,
   "metadata": {},
   "outputs": [],
   "source": []
  }
 ],
 "metadata": {
  "kernelspec": {
   "display_name": "Python 3",
   "language": "python",
   "name": "python3"
  },
  "language_info": {
   "codemirror_mode": {
    "name": "ipython",
    "version": 3
   },
   "file_extension": ".py",
   "mimetype": "text/x-python",
   "name": "python",
   "nbconvert_exporter": "python",
   "pygments_lexer": "ipython3",
   "version": "3.11.6"
  }
 },
 "nbformat": 4,
 "nbformat_minor": 2
}
