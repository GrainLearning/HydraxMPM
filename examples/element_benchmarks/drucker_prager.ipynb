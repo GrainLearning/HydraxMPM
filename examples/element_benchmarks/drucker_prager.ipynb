{
 "cells": [
  {
   "cell_type": "code",
   "execution_count": null,
   "metadata": {},
   "outputs": [],
   "source": [
    "\n",
    "%load_ext autoreload\n",
    "%autoreload 2\n",
    "\n",
    "import jax.numpy as jnp\n",
    "import jax\n",
    "import matplotlib.pyplot as plt\n",
    "import pymudokon as pm\n",
    "\n",
    "jax.config.update('jax_platform_name', 'cpu')\n"
   ]
  },
  {
   "cell_type": "code",
   "execution_count": null,
   "metadata": {},
   "outputs": [],
   "source": [
    "carry, accumulate = pm.simple_shear_wrapper(\n",
    "    pm.DruckerPrager,\n",
    "    [5e8, 0.2, jnp.deg2rad(15), jnp.deg2rad(15), 0.0, 5e7, 0],\n",
    "    target=0.5,\n",
    "    dt=1e-3,\n",
    "    stress_ref= -1000.0 * jnp.eye(3).reshape(3, 3),\n",
    "    keys=(\"stress\", \"strain_rate\",\"volume_fraction\"),\n",
    "    store_every = 10\n",
    ")\n",
    "\n",
    "stress_stack, strain_rate_stack,  volume_fraction_stack = accumulate\n",
    "\n",
    "fig_ax_stack = pm.plot_suite(\n",
    "    \"./output/dp_ss_friction_angle_\",\n",
    "    strain_rate_stack,\n",
    "    stress_stack,\n",
    "    volume_fraction_stack\n",
    "    )\n"
   ]
  },
  {
   "cell_type": "code",
   "execution_count": null,
   "metadata": {},
   "outputs": [],
   "source": [
    "len(stress_stack)"
   ]
  },
  {
   "cell_type": "code",
   "execution_count": null,
   "metadata": {},
   "outputs": [],
   "source": [
    "\n",
    "# # Isotropic decompression, test return mapping to apex\n",
    "# carry, accumulate = pm.isotropic_compression_wrapper(\n",
    "#     pm.DruckerPrager,\n",
    "#     [5e8, 0.2, jnp.deg2rad(15), jnp.deg2rad(15), 10, 1.0, 0],\n",
    "#     target=-0.5,\n",
    "#     dt=1e-3,\n",
    "#     stress_ref =-1000.0 * jnp.eye(3).reshape(1, 3, 3)\n",
    "# )\n",
    "\n",
    "# material_stack, stress_stack, volume_fraction_stack, strain_rate_stack = accumulate\n",
    "\n",
    "# fig_ax_stack = pm.plot_suite(\n",
    "#     \"./output/dp_ss_friction_angle_\",\n",
    "#     strain_rate_stack,\n",
    "#     stress_stack,\n",
    "#     volume_fraction_stack,\n",
    "#     material_stack,\n",
    "#     )\n",
    "\n",
    "# fig,ax = pm.plot_q_p(\n",
    "#     stress_stack=stress_stack,\n",
    "#     normalize_stress=1,\n",
    "# )\n",
    "\n",
    "# ax.set_ylim([-0.1, 0.4])\n",
    "\n",
    "# ax.set_xlim([-200, 1000])"
   ]
  },
  {
   "cell_type": "code",
   "execution_count": null,
   "metadata": {},
   "outputs": [],
   "source": [
    "carry, accumulate = pm.triaxial_compression_wrapper(\n",
    "    pm.DruckerPrager,\n",
    "    [5e8, 0.2, jnp.deg2rad(15), jnp.deg2rad(15), 10, 1.0, 0],\n",
    "    strain_target=-0.2,\n",
    "    dt=1e-3,\n",
    "    confine_pressure=1000.0,\n",
    "    stress_ref=-1000.0 * jnp.eye(3).reshape(3, 3),\n",
    ")\n",
    "material_stack,  stress_stack, volume_fraction_stack, strain_rate_stack = accumulate\n",
    "fig_ax_stack = pm.plot_suite(\n",
    "    \"./output/dp_trx_\",\n",
    "    strain_rate_stack,\n",
    "    stress_stack,\n",
    "    volume_fraction_stack,\n",
    "    material_stack,\n",
    ")\n",
    "print(jnp.shape(stress_stack))"
   ]
  },
  {
   "cell_type": "code",
   "execution_count": null,
   "metadata": {},
   "outputs": [],
   "source": []
  }
 ],
 "metadata": {
  "kernelspec": {
   "display_name": "Python 3",
   "language": "python",
   "name": "python3"
  },
  "language_info": {
   "codemirror_mode": {
    "name": "ipython",
    "version": 3
   },
   "file_extension": ".py",
   "mimetype": "text/x-python",
   "name": "python",
   "nbconvert_exporter": "python",
   "pygments_lexer": "ipython3",
   "version": "3.10.12"
  }
 },
 "nbformat": 4,
 "nbformat_minor": 2
}
