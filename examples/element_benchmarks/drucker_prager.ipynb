{
 "cells": [
  {
   "cell_type": "code",
   "execution_count": 1,
   "metadata": {},
   "outputs": [],
   "source": [
    "\n",
    "%load_ext autoreload\n",
    "%autoreload 2\n",
    "\n",
    "import jax.numpy as jnp\n",
    "import jax\n",
    "import matplotlib.pyplot as plt\n",
    "import pymudokon as pm\n",
    "\n",
    "jax.config.update('jax_platform_name', 'cpu')\n"
   ]
  },
  {
   "cell_type": "code",
   "execution_count": 2,
   "metadata": {},
   "outputs": [
    {
     "name": "stderr",
     "output_type": "stream",
     "text": [
      "/home/retief/Projects/PyMudokonMPM/pymudokon/materials/druckerprager.py:107: UserWarning: Warning: The following functions should be implemented in the future:\n",
      "(1) update stress in MPM. (2) return mapping to apex\n",
      "  warnings.warn(  # noqa: B028\n"
     ]
    },
    {
     "data": {
      "text/plain": [
       "<Figure size 640x480 with 0 Axes>"
      ]
     },
     "metadata": {},
     "output_type": "display_data"
    },
    {
     "data": {
      "text/plain": [
       "<Figure size 640x480 with 0 Axes>"
      ]
     },
     "metadata": {},
     "output_type": "display_data"
    },
    {
     "data": {
      "text/plain": [
       "<Figure size 640x480 with 0 Axes>"
      ]
     },
     "metadata": {},
     "output_type": "display_data"
    },
    {
     "data": {
      "text/plain": [
       "<Figure size 640x480 with 0 Axes>"
      ]
     },
     "metadata": {},
     "output_type": "display_data"
    },
    {
     "data": {
      "text/plain": [
       "<Figure size 640x480 with 0 Axes>"
      ]
     },
     "metadata": {},
     "output_type": "display_data"
    },
    {
     "data": {
      "text/plain": [
       "<Figure size 640x480 with 0 Axes>"
      ]
     },
     "metadata": {},
     "output_type": "display_data"
    },
    {
     "data": {
      "text/plain": [
       "<Figure size 640x480 with 0 Axes>"
      ]
     },
     "metadata": {},
     "output_type": "display_data"
    }
   ],
   "source": [
    "carry, accumulate = pm.simple_shear_wrapper(\n",
    "    pm.DruckerPrager,\n",
    "    [5e8, 0.2, jnp.deg2rad(15), jnp.deg2rad(15), 0.0, 5e7, 0, -1000.0 * jnp.eye(3).reshape(1, 3, 3)],\n",
    "    target=0.5,\n",
    "    dt=1e-3,\n",
    ")\n",
    "material_stack, volume_fraction_stack, stress_stack, strain_rate_stack = accumulate\n",
    "\n",
    "fig_ax_stack = pm.plot_suite(\n",
    "    \"./output/dp_ss_friction_angle_\",\n",
    "    strain_rate_stack,\n",
    "    stress_stack,\n",
    "    volume_fraction_stack,\n",
    "    material_stack,\n",
    "    )"
   ]
  },
  {
   "cell_type": "code",
   "execution_count": 10,
   "metadata": {},
   "outputs": [
    {
     "name": "stderr",
     "output_type": "stream",
     "text": [
      "/home/retief/Projects/PyMudokonMPM/pymudokon/materials/druckerprager.py:107: UserWarning: Warning: The following functions should be implemented in the future:\n",
      "(1) update stress in MPM. (2) return mapping to apex\n",
      "  warnings.warn(  # noqa: B028\n"
     ]
    },
    {
     "data": {
      "text/plain": [
       "(-200.0, 1000.0)"
      ]
     },
     "execution_count": 10,
     "metadata": {},
     "output_type": "execute_result"
    },
    {
     "data": {
      "text/plain": [
       "<Figure size 640x480 with 0 Axes>"
      ]
     },
     "metadata": {},
     "output_type": "display_data"
    },
    {
     "data": {
      "text/plain": [
       "<Figure size 640x480 with 0 Axes>"
      ]
     },
     "metadata": {},
     "output_type": "display_data"
    },
    {
     "data": {
      "text/plain": [
       "<Figure size 640x480 with 0 Axes>"
      ]
     },
     "metadata": {},
     "output_type": "display_data"
    },
    {
     "data": {
      "text/plain": [
       "<Figure size 640x480 with 0 Axes>"
      ]
     },
     "metadata": {},
     "output_type": "display_data"
    },
    {
     "data": {
      "text/plain": [
       "<Figure size 640x480 with 0 Axes>"
      ]
     },
     "metadata": {},
     "output_type": "display_data"
    },
    {
     "data": {
      "text/plain": [
       "<Figure size 640x480 with 0 Axes>"
      ]
     },
     "metadata": {},
     "output_type": "display_data"
    },
    {
     "data": {
      "text/plain": [
       "<Figure size 640x480 with 0 Axes>"
      ]
     },
     "metadata": {},
     "output_type": "display_data"
    },
    {
     "data": {
      "image/png": "[encoded data removed]",
      "text/plain": [
       "<Figure size 640x480 with 1 Axes>"
      ]
     },
     "metadata": {},
     "output_type": "display_data"
    }
   ],
   "source": [
    "\n",
    "# Isotropic decompression, test return mapping to apex\n",
    "carry, accumulate = pm.isotropic_compression_wrapper(\n",
    "    pm.DruckerPrager,\n",
    "    [5e8, 0.2, jnp.deg2rad(15), jnp.deg2rad(15), 10, 1.0, 0, -1000.0 * jnp.eye(3).reshape(1, 3, 3)],\n",
    "    target=-0.5,\n",
    "    dt=1e-3,\n",
    ")\n",
    "\n",
    "material_stack, volume_fraction_stack, stress_stack, strain_rate_stack = accumulate\n",
    "\n",
    "fig_ax_stack = pm.plot_suite(\n",
    "    \"./output/dp_ss_friction_angle_\",\n",
    "    strain_rate_stack,\n",
    "    stress_stack,\n",
    "    volume_fraction_stack,\n",
    "    material_stack,\n",
    "    )\n",
    "\n",
    "fig,ax = pm.plot_q_p(\n",
    "    stress_stack=stress_stack,\n",
    "    normalize_stress=1,\n",
    ")\n",
    "\n",
    "ax.set_ylim([-0.1, 0.4])\n",
    "\n",
    "ax.set_xlim([-200, 1000])"
   ]
  },
  {
   "cell_type": "code",
   "execution_count": 6,
   "metadata": {},
   "outputs": [
    {
     "data": {
      "text/plain": [
       "Array([[[-983.3333  ,    0.      ,    0.      ],\n",
       "        [   0.      , -983.3333  ,    0.      ],\n",
       "        [   0.      ,    0.      , -983.3333  ]],\n",
       "\n",
       "       [[-966.6667  ,    0.      ,    0.      ],\n",
       "        [   0.      , -966.6667  ,    0.      ],\n",
       "        [   0.      ,    0.      , -966.6667  ]],\n",
       "\n",
       "       [[-950.      ,    0.      ,    0.      ],\n",
       "        [   0.      , -950.      ,    0.      ],\n",
       "        [   0.      ,    0.      , -950.      ]],\n",
       "\n",
       "       ...,\n",
       "\n",
       "       [[   3.725236,    0.      ,    0.      ],\n",
       "        [   0.      ,    3.725236,    0.      ],\n",
       "        [   0.      ,    0.      ,    3.725236]],\n",
       "\n",
       "       [[   3.725236,    0.      ,    0.      ],\n",
       "        [   0.      ,    3.725236,    0.      ],\n",
       "        [   0.      ,    0.      ,    3.725236]],\n",
       "\n",
       "       [[   3.725236,    0.      ,    0.      ],\n",
       "        [   0.      ,    3.725236,    0.      ],\n",
       "        [   0.      ,    0.      ,    3.725236]]], dtype=float32)"
      ]
     },
     "execution_count": 6,
     "metadata": {},
     "output_type": "execute_result"
    }
   ],
   "source": [
    "stress_stack"
   ]
  },
  {
   "cell_type": "code",
   "execution_count": null,
   "metadata": {},
   "outputs": [],
   "source": []
  }
 ],
 "metadata": {
  "kernelspec": {
   "display_name": "Python 3",
   "language": "python",
   "name": "python3"
  },
  "language_info": {
   "codemirror_mode": {
    "name": "ipython",
    "version": 3
   },
   "file_extension": ".py",
   "mimetype": "text/x-python",
   "name": "python",
   "nbconvert_exporter": "python",
   "pygments_lexer": "ipython3",
   "version": "3.10.12"
  }
 },
 "nbformat": 4,
 "nbformat_minor": 2
}
