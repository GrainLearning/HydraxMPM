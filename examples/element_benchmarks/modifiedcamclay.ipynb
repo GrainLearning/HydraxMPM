{
 "cells": [
  {
   "cell_type": "code",
   "execution_count": 1,
   "metadata": {},
   "outputs": [],
   "source": [
    "%load_ext autoreload\n",
    "%autoreload 2\n",
    "\n",
    "import jax\n",
    "import jax.numpy as jnp\n",
    "import matplotlib.pyplot as plt\n",
    "\n",
    "import pymudokon as pm\n",
    "\n",
    "jax.config.update(\"jax_platform_name\", \"cpu\")"
   ]
  },
  {
   "cell_type": "code",
   "execution_count": null,
   "metadata": {},
   "outputs": [],
   "source": [
    "# Fixing issue with return mapping algorithm.. will re-add soon"
   ]
  },
  {
   "cell_type": "code",
   "execution_count": null,
   "metadata": {},
   "outputs": [],
   "source": [
    "# carry, accumulate = pm.simple_shear_wrapper(\n",
    "#     pm.ModifiedCamClay,\n",
    "#     [\n",
    "#         5e6,  # E,\n",
    "#         0.3,  # nu,\n",
    "#         0.8,  # M,\n",
    "#         1,  # R,\n",
    "#         0.062,  # lam,\n",
    "#         0.00055,  # kap,\n",
    "#         1.0,  # Vs\n",
    "#     ],\n",
    "#     target=0.5,\n",
    "#     dt=1e-3,\n",
    "#     stress_ref=-1000.0 * jnp.eye(3).reshape(3, 3),\n",
    "# )\n",
    "# material_stack, stress_stack, volume_fraction_stack, strain_rate_stack = accumulate\n",
    "\n",
    "# fig_ax_stack = pm.plot_suite(\n",
    "#     \"./output/mcc_ss_\",\n",
    "#     strain_rate_stack,\n",
    "#     stress_stack,\n",
    "#     volume_fraction_stack,\n",
    "#     material_stack,\n",
    "# )"
   ]
  },
  {
   "cell_type": "code",
   "execution_count": 2,
   "metadata": {},
   "outputs": [
    {
     "name": "stdout",
     "output_type": "stream",
     "text": [
      "(25000, 3, 3)\n"
     ]
    },
    {
     "data": {
      "text/plain": [
       "<Figure size 640x480 with 0 Axes>"
      ]
     },
     "metadata": {},
     "output_type": "display_data"
    },
    {
     "data": {
      "text/plain": [
       "<Figure size 640x480 with 0 Axes>"
      ]
     },
     "metadata": {},
     "output_type": "display_data"
    },
    {
     "data": {
      "text/plain": [
       "<Figure size 640x480 with 0 Axes>"
      ]
     },
     "metadata": {},
     "output_type": "display_data"
    },
    {
     "data": {
      "text/plain": [
       "<Figure size 640x480 with 0 Axes>"
      ]
     },
     "metadata": {},
     "output_type": "display_data"
    },
    {
     "data": {
      "text/plain": [
       "<Figure size 640x480 with 0 Axes>"
      ]
     },
     "metadata": {},
     "output_type": "display_data"
    },
    {
     "data": {
      "text/plain": [
       "<Figure size 640x480 with 0 Axes>"
      ]
     },
     "metadata": {},
     "output_type": "display_data"
    },
    {
     "data": {
      "text/plain": [
       "<Figure size 640x480 with 0 Axes>"
      ]
     },
     "metadata": {},
     "output_type": "display_data"
    }
   ],
   "source": [
    "# carry, accumulate = pm.triaxial_compression_wrapper(\n",
    "#     pm.ModifiedCamClay,\n",
    "#     [\n",
    "#         5e6,  # E,\n",
    "#         0.3,  # nu,\n",
    "#         0.8,  # M,\n",
    "#         1,  # R,\n",
    "#         0.062,  # lam,\n",
    "#         0.00055,  # kap,\n",
    "#         1.0,  # Vs\n",
    "#     ],\n",
    "#     strain_target=-0.2,\n",
    "#     dt=1e-3,\n",
    "#     confine_pressure=1000.0,\n",
    "#     stress_ref=-1000.0 * jnp.eye(3).reshape(3, 3),\n",
    "# )\n",
    "\n",
    "# material_stack, stress_stack, volume_fraction_stack, strain_rate_stack = accumulate\n",
    "\n",
    "# fig_ax_stack = pm.plot_suite(\n",
    "#     \"./output/mcc_trx_\",\n",
    "#     strain_rate_stack,\n",
    "#     stress_stack,\n",
    "#     volume_fraction_stack,\n",
    "#     material_stack,\n",
    "# )\n",
    "# print(jnp.shape(stress_stack))"
   ]
  }
 ],
 "metadata": {
  "kernelspec": {
   "display_name": "Python 3",
   "language": "python",
   "name": "python3"
  },
  "language_info": {
   "codemirror_mode": {
    "name": "ipython",
    "version": 3
   },
   "file_extension": ".py",
   "mimetype": "text/x-python",
   "name": "python",
   "nbconvert_exporter": "python",
   "pygments_lexer": "ipython3",
   "version": "3.10.12"
  }
 },
 "nbformat": 4,
 "nbformat_minor": 2
}
