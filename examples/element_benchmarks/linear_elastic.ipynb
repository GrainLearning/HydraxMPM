{
 "cells": [
  {
   "cell_type": "code",
   "execution_count": 5,
   "metadata": {},
   "outputs": [
    {
     "name": "stdout",
     "output_type": "stream",
     "text": [
      "The autoreload extension is already loaded. To reload it, use:\n",
      "  %reload_ext autoreload\n"
     ]
    }
   ],
   "source": [
    "%load_ext autoreload\n",
    "%autoreload 2\n",
    "\n",
    "import jax.numpy as jnp\n",
    "import jax\n",
    "import matplotlib.pyplot as plt\n",
    "import pymudokon as pm"
   ]
  },
  {
   "cell_type": "code",
   "execution_count": 6,
   "metadata": {},
   "outputs": [],
   "source": [
    "total_time = 25.0\n",
    "timestep = 0.01\n",
    "strain_target = 0.005\n",
    "num_steps = int(total_time/timestep)\n",
    "\n",
    "\n",
    "strain_target_list = -jnp.linspace(0,strain_target,num_steps)\n",
    "\n",
    "eps_path = jnp.vstack([strain_target_list,strain_target_list]) # 2 x particles\n"
   ]
  },
  {
   "cell_type": "code",
   "execution_count": null,
   "metadata": {},
   "outputs": [],
   "source": []
  },
  {
   "cell_type": "code",
   "execution_count": 7,
   "metadata": {},
   "outputs": [],
   "source": [
    "\n",
    "stress_ref = jnp.tile(-100000.0*jnp.eye(3), (2, 1, 1))\n",
    "\n",
    "material = pm.ModifiedCamClay.register(\n",
    "    E = 5e7,\n",
    "    nu = 0.3,\n",
    "    M = 1.2,\n",
    "    lam = 0.062,\n",
    "    kap = 0.0055,\n",
    "    Vs = 0.6,\n",
    "    R = 1.0,\n",
    "    stress_ref= stress_ref,\n",
    "    num_particles =2\n",
    ")\n",
    "\n",
    "# jax.make_jaxpr(material.update_stress_benchmark)(\n",
    "#     jnp.zeros((2,3,3)),\n",
    "#     0.1,\n",
    "#     False\n",
    "# )"
   ]
  },
  {
   "cell_type": "code",
   "execution_count": 8,
   "metadata": {},
   "outputs": [
    {
     "ename": "TypeError",
     "evalue": "Pred must be a scalar, got Traced<ShapedArray(bool[3,3])>with<BatchTrace(level=2/0)> with\n  val = Traced<ShapedArray(bool[2,3,3])>with<DynamicJaxprTrace(level=1/0)>\n  batch_dim = 0 of shape (3, 3).",
     "output_type": "error",
     "traceback": [
      "\u001b[0;31m---------------------------------------------------------------------------\u001b[0m",
      "\u001b[0;31mTypeError\u001b[0m                                 Traceback (most recent call last)",
      "Cell \u001b[0;32mIn[8], line 1\u001b[0m\n\u001b[0;32m----> 1\u001b[0m store, material \u001b[38;5;241m=\u001b[39m \u001b[43mpm\u001b[49m\u001b[38;5;241;43m.\u001b[39;49m\u001b[43msimple_shear\u001b[49m\u001b[43m(\u001b[49m\u001b[43mmaterial\u001b[49m\u001b[43m,\u001b[49m\u001b[43meps_path\u001b[49m\u001b[43m,\u001b[49m\u001b[43mtimestep\u001b[49m\u001b[43m,\u001b[49m\u001b[43mresults_to_store\u001b[49m\u001b[38;5;241;43m=\u001b[39;49m\u001b[43m \u001b[49m\u001b[43m[\u001b[49m\u001b[38;5;124;43m\"\u001b[39;49m\u001b[38;5;124;43meps_e\u001b[39;49m\u001b[38;5;124;43m\"\u001b[39;49m\u001b[43m]\u001b[49m\u001b[43m \u001b[49m\u001b[43m)\u001b[49m\n",
      "File \u001b[0;32m~/Projects/PyMudokonMPM/pymudokon/ip_benchmarks/simpleshear.py:52\u001b[0m, in \u001b[0;36msimple_shear\u001b[0;34m(material, eps_path, dt, results_to_store, output_step)\u001b[0m\n\u001b[1;32m     48\u001b[0m strain_increment \u001b[38;5;241m=\u001b[39m eps_inc_target \u001b[38;5;241m-\u001b[39m eps_inc_prev\n\u001b[1;32m     50\u001b[0m strain_rate \u001b[38;5;241m=\u001b[39m strain_increment \u001b[38;5;241m/\u001b[39m dt_step\n\u001b[0;32m---> 52\u001b[0m stress, material \u001b[38;5;241m=\u001b[39m \u001b[43mmaterial\u001b[49m\u001b[38;5;241;43m.\u001b[39;49m\u001b[43mupdate_stress_benchmark\u001b[49m\u001b[43m(\u001b[49m\u001b[43mstrain_rate\u001b[49m\u001b[43m,\u001b[49m\u001b[43m \u001b[49m\u001b[43mdt_step\u001b[49m\u001b[43m,\u001b[49m\u001b[43m \u001b[49m\u001b[43mupdate_history\u001b[49m\u001b[38;5;241;43m=\u001b[39;49m\u001b[38;5;28;43;01mTrue\u001b[39;49;00m\u001b[43m)\u001b[49m\n\u001b[1;32m     54\u001b[0m eps_inc_prev \u001b[38;5;241m=\u001b[39m eps_inc_target\u001b[38;5;241m.\u001b[39mcopy()\n\u001b[1;32m     56\u001b[0m \u001b[38;5;28;01mif\u001b[39;00m step \u001b[38;5;241m%\u001b[39m output_step \u001b[38;5;241m==\u001b[39m \u001b[38;5;241m0\u001b[39m:\n",
      "    \u001b[0;31m[... skipping hidden 11 frame]\u001b[0m\n",
      "File \u001b[0;32m~/Projects/PyMudokonMPM/pymudokon/materials/modifiedcamclay.py:251\u001b[0m, in \u001b[0;36mModifiedCamClay.update_stress_benchmark\u001b[0;34m(self, strain_rate, dt, update_history)\u001b[0m\n\u001b[1;32m    242\u001b[0m \u001b[38;5;129m@jax\u001b[39m\u001b[38;5;241m.\u001b[39mjit\n\u001b[1;32m    243\u001b[0m \u001b[38;5;28;01mdef\u001b[39;00m \u001b[38;5;21mupdate_stress_benchmark\u001b[39m(\n\u001b[1;32m    244\u001b[0m     \u001b[38;5;28mself\u001b[39m: Self,\n\u001b[0;32m   (...)\u001b[0m\n\u001b[1;32m    248\u001b[0m     update_history: \u001b[38;5;28mbool\u001b[39m \u001b[38;5;241m=\u001b[39m \u001b[38;5;28;01mTrue\u001b[39;00m,\n\u001b[1;32m    249\u001b[0m ) \u001b[38;5;241m-\u001b[39m\u001b[38;5;241m>\u001b[39m Self:\n\u001b[1;32m    250\u001b[0m     deps \u001b[38;5;241m=\u001b[39m strain_rate \u001b[38;5;241m*\u001b[39m dt\n\u001b[0;32m--> 251\u001b[0m     stress_next, eps_e_next, pc_next, eps_v_p_next \u001b[38;5;241m=\u001b[39m \u001b[43mjax\u001b[49m\u001b[38;5;241;43m.\u001b[39;49m\u001b[43mvmap\u001b[49m\u001b[43m(\u001b[49m\n\u001b[1;32m    252\u001b[0m \u001b[43m        \u001b[49m\u001b[43mvmap_update\u001b[49m\u001b[43m,\u001b[49m\u001b[43m \u001b[49m\u001b[43min_axes\u001b[49m\u001b[38;5;241;43m=\u001b[39;49m\u001b[43m(\u001b[49m\u001b[38;5;241;43m0\u001b[39;49m\u001b[43m,\u001b[49m\u001b[43m \u001b[49m\u001b[38;5;241;43m0\u001b[39;49m\u001b[43m,\u001b[49m\u001b[43m \u001b[49m\u001b[38;5;241;43m0\u001b[39;49m\u001b[43m,\u001b[49m\u001b[43m \u001b[49m\u001b[38;5;241;43m0\u001b[39;49m\u001b[43m,\u001b[49m\u001b[43m \u001b[49m\u001b[38;5;241;43m0\u001b[39;49m\u001b[43m,\u001b[49m\u001b[43m \u001b[49m\u001b[38;5;28;43;01mNone\u001b[39;49;00m\u001b[43m,\u001b[49m\u001b[43m \u001b[49m\u001b[38;5;28;43;01mNone\u001b[39;49;00m\u001b[43m,\u001b[49m\u001b[43m \u001b[49m\u001b[38;5;28;43;01mNone\u001b[39;49;00m\u001b[43m,\u001b[49m\u001b[43m \u001b[49m\u001b[38;5;28;43;01mNone\u001b[39;49;00m\u001b[43m,\u001b[49m\u001b[43m \u001b[49m\u001b[38;5;28;43;01mNone\u001b[39;49;00m\u001b[43m)\u001b[49m\u001b[43m,\u001b[49m\u001b[43m \u001b[49m\u001b[43mout_axes\u001b[49m\u001b[38;5;241;43m=\u001b[39;49m\u001b[43m(\u001b[49m\u001b[38;5;241;43m0\u001b[39;49m\u001b[43m,\u001b[49m\u001b[43m \u001b[49m\u001b[38;5;241;43m0\u001b[39;49m\u001b[43m,\u001b[49m\u001b[43m \u001b[49m\u001b[38;5;241;43m0\u001b[39;49m\u001b[43m,\u001b[49m\u001b[43m \u001b[49m\u001b[38;5;241;43m0\u001b[39;49m\u001b[43m)\u001b[49m\n\u001b[1;32m    253\u001b[0m \u001b[43m    \u001b[49m\u001b[43m)\u001b[49m\u001b[43m(\u001b[49m\n\u001b[1;32m    254\u001b[0m \u001b[43m        \u001b[49m\u001b[38;5;28;43mself\u001b[39;49m\u001b[38;5;241;43m.\u001b[39;49m\u001b[43meps_e\u001b[49m\u001b[43m,\u001b[49m\n\u001b[1;32m    255\u001b[0m \u001b[43m        \u001b[49m\u001b[43mdeps\u001b[49m\u001b[43m,\u001b[49m\n\u001b[1;32m    256\u001b[0m \u001b[43m        \u001b[49m\u001b[38;5;28;43mself\u001b[39;49m\u001b[38;5;241;43m.\u001b[39;49m\u001b[43mstress_ref\u001b[49m\u001b[43m,\u001b[49m\n\u001b[1;32m    257\u001b[0m \u001b[43m        \u001b[49m\u001b[38;5;28;43mself\u001b[39;49m\u001b[38;5;241;43m.\u001b[39;49m\u001b[43mpc\u001b[49m\u001b[43m,\u001b[49m\n\u001b[1;32m    258\u001b[0m \u001b[43m        \u001b[49m\u001b[38;5;28;43mself\u001b[39;49m\u001b[38;5;241;43m.\u001b[39;49m\u001b[43meps_v_p\u001b[49m\u001b[43m,\u001b[49m\n\u001b[1;32m    259\u001b[0m \u001b[43m        \u001b[49m\u001b[38;5;28;43mself\u001b[39;49m\u001b[38;5;241;43m.\u001b[39;49m\u001b[43mG\u001b[49m\u001b[43m,\u001b[49m\n\u001b[1;32m    260\u001b[0m \u001b[43m        \u001b[49m\u001b[38;5;28;43mself\u001b[39;49m\u001b[38;5;241;43m.\u001b[39;49m\u001b[43mK\u001b[49m\u001b[43m,\u001b[49m\n\u001b[1;32m    261\u001b[0m \u001b[43m        \u001b[49m\u001b[38;5;28;43mself\u001b[39;49m\u001b[38;5;241;43m.\u001b[39;49m\u001b[43mM\u001b[49m\u001b[43m,\u001b[49m\n\u001b[1;32m    262\u001b[0m \u001b[43m        \u001b[49m\u001b[38;5;28;43mself\u001b[39;49m\u001b[38;5;241;43m.\u001b[39;49m\u001b[43mlam\u001b[49m\u001b[43m,\u001b[49m\n\u001b[1;32m    263\u001b[0m \u001b[43m        \u001b[49m\u001b[38;5;28;43mself\u001b[39;49m\u001b[38;5;241;43m.\u001b[39;49m\u001b[43mkap\u001b[49m\u001b[43m,\u001b[49m\n\u001b[1;32m    264\u001b[0m \u001b[43m        \u001b[49m\u001b[38;5;66;43;03m# self.Vs\u001b[39;49;00m\n\u001b[1;32m    265\u001b[0m \u001b[43m    \u001b[49m\u001b[43m)\u001b[49m\n\u001b[1;32m    267\u001b[0m     \u001b[38;5;28;01mreturn\u001b[39;00m stress_next, \u001b[38;5;28mself\u001b[39m\u001b[38;5;241m.\u001b[39mreplace(eps_e\u001b[38;5;241m=\u001b[39meps_e_next, pc\u001b[38;5;241m=\u001b[39mpc_next, eps_v_p\u001b[38;5;241m=\u001b[39meps_v_p_next)\n",
      "    \u001b[0;31m[... skipping hidden 3 frame]\u001b[0m\n",
      "File \u001b[0;32m~/Projects/PyMudokonMPM/pymudokon/materials/modifiedcamclay.py:84\u001b[0m, in \u001b[0;36mvmap_update\u001b[0;34m(eps_e_prev, deps, stress_ref, pc, eps_v_p, G, K, M, lam, kap)\u001b[0m\n\u001b[1;32m     81\u001b[0m F \u001b[38;5;241m=\u001b[39m yield_function(p_tr, q_tr, ps_tr, M)\n\u001b[1;32m     83\u001b[0m \u001b[38;5;66;03m#  volumes, Vs, lam, kap\u001b[39;00m\n\u001b[0;32m---> 84\u001b[0m stress_next, eps_e_next, pc_next, eps_v_p_next \u001b[38;5;241m=\u001b[39m \u001b[43mjax\u001b[49m\u001b[38;5;241;43m.\u001b[39;49m\u001b[43mlax\u001b[49m\u001b[38;5;241;43m.\u001b[39;49m\u001b[43mcond\u001b[49m\u001b[43m(\u001b[49m\n\u001b[1;32m     85\u001b[0m \u001b[43m    \u001b[49m\u001b[43mF\u001b[49m\u001b[43m \u001b[49m\u001b[38;5;241;43m<\u001b[39;49m\u001b[38;5;241;43m=\u001b[39;49m\u001b[43m \u001b[49m\u001b[38;5;241;43m0\u001b[39;49m\u001b[43m,\u001b[49m\n\u001b[1;32m     86\u001b[0m \u001b[43m    \u001b[49m\u001b[43maccept_elastic_solution\u001b[49m\u001b[43m,\u001b[49m\n\u001b[1;32m     87\u001b[0m \u001b[43m    \u001b[49m\u001b[43mreturn_mapping\u001b[49m\u001b[43m,\u001b[49m\n\u001b[1;32m     88\u001b[0m \u001b[43m    \u001b[49m\u001b[43m(\u001b[49m\u001b[43meps_e_tr\u001b[49m\u001b[43m,\u001b[49m\u001b[43m \u001b[49m\u001b[43meps_e_prev\u001b[49m\u001b[43m,\u001b[49m\u001b[43m \u001b[49m\u001b[43mpc\u001b[49m\u001b[43m,\u001b[49m\u001b[43m \u001b[49m\u001b[43meps_v_p\u001b[49m\u001b[43m,\u001b[49m\u001b[43m \u001b[49m\u001b[43mp_tr\u001b[49m\u001b[43m,\u001b[49m\u001b[43m \u001b[49m\u001b[43ms_tr\u001b[49m\u001b[43m)\u001b[49m\u001b[43m,\u001b[49m\n\u001b[1;32m     89\u001b[0m \u001b[43m\u001b[49m\u001b[43m)\u001b[49m\n\u001b[1;32m     91\u001b[0m \u001b[38;5;28;01mreturn\u001b[39;00m stress_next, eps_e_next, pc_next, eps_v_p_next\n",
      "    \u001b[0;31m[... skipping hidden 2 frame]\u001b[0m\n",
      "File \u001b[0;32m~/Projects/PyMudokonMPM/.venv/lib/python3.10/site-packages/jax/_src/lax/control_flow/conditionals.py:212\u001b[0m, in \u001b[0;36m_cond\u001b[0;34m(***failed resolving arguments***)\u001b[0m\n\u001b[1;32m    210\u001b[0m   \u001b[38;5;28;01mraise\u001b[39;00m \u001b[38;5;167;01mTypeError\u001b[39;00m(\u001b[38;5;124m\"\u001b[39m\u001b[38;5;124mcond predicate is None\u001b[39m\u001b[38;5;124m\"\u001b[39m)\n\u001b[1;32m    211\u001b[0m \u001b[38;5;28;01mif\u001b[39;00m \u001b[38;5;28misinstance\u001b[39m(pred, Sequence) \u001b[38;5;129;01mor\u001b[39;00m np\u001b[38;5;241m.\u001b[39mndim(pred) \u001b[38;5;241m!=\u001b[39m \u001b[38;5;241m0\u001b[39m:\n\u001b[0;32m--> 212\u001b[0m   \u001b[38;5;28;01mraise\u001b[39;00m \u001b[38;5;167;01mTypeError\u001b[39;00m(\n\u001b[1;32m    213\u001b[0m       \u001b[38;5;124mf\u001b[39m\u001b[38;5;124m\"\u001b[39m\u001b[38;5;124mPred must be a scalar, got \u001b[39m\u001b[38;5;132;01m{\u001b[39;00mpred\u001b[38;5;132;01m}\u001b[39;00m\u001b[38;5;124m of \u001b[39m\u001b[38;5;124m\"\u001b[39m \u001b[38;5;241m+\u001b[39m\n\u001b[1;32m    214\u001b[0m       (\u001b[38;5;124mf\u001b[39m\u001b[38;5;124m\"\u001b[39m\u001b[38;5;124mtype \u001b[39m\u001b[38;5;132;01m{\u001b[39;00m\u001b[38;5;28mtype\u001b[39m(pred)\u001b[38;5;132;01m}\u001b[39;00m\u001b[38;5;124m\"\u001b[39m \u001b[38;5;28;01mif\u001b[39;00m \u001b[38;5;28misinstance\u001b[39m(pred, Sequence)\n\u001b[1;32m    215\u001b[0m        \u001b[38;5;28;01melse\u001b[39;00m \u001b[38;5;124mf\u001b[39m\u001b[38;5;124m\"\u001b[39m\u001b[38;5;124mshape \u001b[39m\u001b[38;5;132;01m{\u001b[39;00mnp\u001b[38;5;241m.\u001b[39mshape(pred)\u001b[38;5;132;01m}\u001b[39;00m\u001b[38;5;124m.\u001b[39m\u001b[38;5;124m\"\u001b[39m))\n\u001b[1;32m    217\u001b[0m \u001b[38;5;28;01mtry\u001b[39;00m:\n\u001b[1;32m    218\u001b[0m   pred_dtype \u001b[38;5;241m=\u001b[39m dtypes\u001b[38;5;241m.\u001b[39mresult_type(pred)\n",
      "\u001b[0;31mTypeError\u001b[0m: Pred must be a scalar, got Traced<ShapedArray(bool[3,3])>with<BatchTrace(level=2/0)> with\n  val = Traced<ShapedArray(bool[2,3,3])>with<DynamicJaxprTrace(level=1/0)>\n  batch_dim = 0 of shape (3, 3)."
     ]
    }
   ],
   "source": [
    "\n",
    "store, material = pm.simple_shear(material,eps_path,timestep,results_to_store= [\"eps_e\"] )\n"
   ]
  },
  {
   "cell_type": "code",
   "execution_count": null,
   "metadata": {},
   "outputs": [],
   "source": [
    "stress_list = store[\"stress\"][:,0,:].to_numpy()\n",
    "strain_list = store[\"eps_path\"][:,0,:].to_numpy()\n",
    "\n",
    "print(stress_list)\n",
    "fig_tg, ax_tg = plt.subplots()\n",
    "fig_pq, ax_pq = plt.subplots()\n",
    "\n",
    "pm.plot_tau_gamma(\n",
    "    stress_list,\n",
    "    strain_list,\n",
    "    fig_ax = (fig_tg,ax_tg),\n",
    "    plot_options={\"linewidth\":2.0,\"ls\":\"--\"}\n",
    ")\n",
    "\n",
    "pm.plot_q_p(\n",
    "    stress_list,\n",
    "    fig_ax = (fig_pq,ax_pq),\n",
    "    plot_options={\"linewidth\":2.0,\"ls\":\"--\"}\n",
    "    )"
   ]
  },
  {
   "cell_type": "code",
   "execution_count": null,
   "metadata": {},
   "outputs": [],
   "source": [
    "# material = pm.LinearIsotropicElastic.register(1000,0.3,2,3)"
   ]
  },
  {
   "cell_type": "code",
   "execution_count": null,
   "metadata": {},
   "outputs": [],
   "source": [
    "\n",
    "\n",
    "# store, material = pm.simple_shear(material,eps_path,0.01,results_to_store= [\"eps_e\"] )\n"
   ]
  },
  {
   "cell_type": "code",
   "execution_count": null,
   "metadata": {},
   "outputs": [],
   "source": [
    "# stress_list = store[\"stress\"][:,0,:].to_numpy()\n",
    "# strain_list = store[\"eps_path\"][:,0,:].to_numpy()\n",
    "\n",
    "# print(stress_list)\n",
    "# fig_tg, ax_tg = plt.subplots()\n",
    "# fig_pq, ax_pq = plt.subplots()\n",
    "\n",
    "# pm.plot_tau_gamma(\n",
    "#     stress_list,\n",
    "#     strain_list,\n",
    "#     fig_ax = (fig_tg,ax_tg),\n",
    "#     plot_options={\"linewidth\":2.0,\"ls\":\"--\"}\n",
    "# )\n",
    "\n",
    "# pm.plot_q_p(\n",
    "#     stress_list,\n",
    "#     fig_ax = (fig_pq,ax_pq),\n",
    "#     plot_options={\"linewidth\":2.0,\"ls\":\"--\"}\n",
    "#     )"
   ]
  },
  {
   "cell_type": "code",
   "execution_count": null,
   "metadata": {},
   "outputs": [],
   "source": []
  },
  {
   "cell_type": "code",
   "execution_count": null,
   "metadata": {},
   "outputs": [],
   "source": []
  },
  {
   "cell_type": "code",
   "execution_count": null,
   "metadata": {},
   "outputs": [],
   "source": [
    "stress_list = store[\"stress\"][:,0,:].to_numpy()\n",
    "strain_list = store[\"eps_path\"][:,0,:].to_numpy()\n",
    "\n",
    "print(stress_list)\n",
    "fig_tg, ax_tg = plt.subplots()\n",
    "fig_pq, ax_pq = plt.subplots()\n",
    "\n",
    "pm.plot_tau_gamma(\n",
    "    stress_list,\n",
    "    strain_list,\n",
    "    fig_ax = (fig_tg,ax_tg),\n",
    "    plot_options={\"linewidth\":2.0,\"ls\":\"--\"}\n",
    ")\n",
    "\n",
    "pm.plot_q_p(\n",
    "    stress_list,\n",
    "    fig_ax = (fig_pq,ax_pq),\n",
    "    plot_options={\"linewidth\":2.0,\"ls\":\"--\"}\n",
    "    )"
   ]
  },
  {
   "cell_type": "code",
   "execution_count": null,
   "metadata": {},
   "outputs": [],
   "source": []
  }
 ],
 "metadata": {
  "kernelspec": {
   "display_name": "Python 3",
   "language": "python",
   "name": "python3"
  },
  "language_info": {
   "codemirror_mode": {
    "name": "ipython",
    "version": 3
   },
   "file_extension": ".py",
   "mimetype": "text/x-python",
   "name": "python",
   "nbconvert_exporter": "python",
   "pygments_lexer": "ipython3",
   "version": "3.10.12"
  }
 },
 "nbformat": 4,
 "nbformat_minor": 2
}
