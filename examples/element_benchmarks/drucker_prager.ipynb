{
 "cells": [
  {
   "cell_type": "code",
   "execution_count": 16,
   "metadata": {},
   "outputs": [
    {
     "name": "stdout",
     "output_type": "stream",
     "text": [
      "The autoreload extension is already loaded. To reload it, use:\n",
      "  %reload_ext autoreload\n"
     ]
    }
   ],
   "source": [
    "%load_ext autoreload\n",
    "%autoreload 2\n",
    "\n",
    "import jax.numpy as jnp\n",
    "import jax\n",
    "import matplotlib.pyplot as plt\n",
    "import pymudokon as pm\n",
    "\n",
    "jax.config.update('jax_platform_name', 'cpu')\n"
   ]
  },
  {
   "cell_type": "code",
   "execution_count": 17,
   "metadata": {},
   "outputs": [],
   "source": [
    "total_time = 25.0\n",
    "\n",
    "dt = 0.01\n",
    "\n",
    "num_steps = int(total_time/dt)\n",
    "\n",
    "strain_target = 0.005\n",
    "\n",
    "shear_path = -jnp.linspace(0,strain_target,num_steps)\n",
    "\n",
    "strain_tensors = jnp.zeros((num_steps,3,3))\n",
    "\n",
    "strain_rate_tensors = strain_tensors.at[:num_steps,0,1].set(shear_path)\n",
    "\n",
    "volumes = jnp.ones(1)\n"
   ]
  },
  {
   "cell_type": "code",
   "execution_count": 19,
   "metadata": {},
   "outputs": [
    {
     "ename": "ValueError",
     "evalue": "too many values to unpack (expected 2)",
     "output_type": "error",
     "traceback": [
      "\u001b[0;31m---------------------------------------------------------------------------\u001b[0m",
      "\u001b[0;31mValueError\u001b[0m                                Traceback (most recent call last)",
      "Cell \u001b[0;32mIn[19], line 22\u001b[0m\n\u001b[1;32m     17\u001b[0m     \u001b[38;5;28;01mreturn\u001b[39;00m carry, accumulate\n\u001b[1;32m     20\u001b[0m carry, accumulate \u001b[38;5;241m=\u001b[39m run_simple_shear([\u001b[38;5;241m5e4\u001b[39m,\u001b[38;5;241m0.1\u001b[39m])\n\u001b[0;32m---> 22\u001b[0m material, volume \u001b[38;5;241m=\u001b[39m carry \n\u001b[1;32m     23\u001b[0m material, volume, stress \u001b[38;5;241m=\u001b[39m  accumulate \n",
      "\u001b[0;31mValueError\u001b[0m: too many values to unpack (expected 2)"
     ]
    }
   ],
   "source": [
    "\n",
    "def run_simple_shear(params):\n",
    "    material = pm.DruckerPrager.create(\n",
    "        E = params[0],\n",
    "        nu = params[1],\n",
    "        stress_ref=  -100000.0*jnp.eye(3).reshape(1,3,3),\n",
    "    )\n",
    "    \n",
    "\n",
    "\n",
    "    carry, accumulate = pm.simple_shear(\n",
    "        material,\n",
    "        strain_rate_tensors,\n",
    "        volumes,\n",
    "        dt)\n",
    "    \n",
    "    \n",
    "    return carry, accumulate\n",
    "\n",
    "\n",
    "carry, accumulate = run_simple_shear([5e4,0.1])\n",
    "\n",
    "material, volume = carry \n",
    "material, volume, stress = accumulate "
   ]
  },
  {
   "cell_type": "code",
   "execution_count": null,
   "metadata": {},
   "outputs": [],
   "source": []
  },
  {
   "cell_type": "code",
   "execution_count": null,
   "metadata": {},
   "outputs": [],
   "source": []
  },
  {
   "cell_type": "code",
   "execution_count": null,
   "metadata": {},
   "outputs": [],
   "source": []
  },
  {
   "cell_type": "code",
   "execution_count": null,
   "metadata": {},
   "outputs": [],
   "source": [
    "fig_tg, ax_tg = plt.subplots()\n",
    "fig_pq, ax_pq = plt.subplots()\n",
    "\n",
    "pm.plot_tau_gamma(\n",
    "    stress_list,\n",
    "    strain_list,\n",
    "    fig_ax = (fig_tg,ax_tg),\n",
    "    plot_options={\"linewidth\":2.0,\"ls\":\"--\"}\n",
    ")\n",
    "\n",
    "pm.plot_q_p(\n",
    "    stress_list,\n",
    "    fig_ax = (fig_pq,ax_pq),\n",
    "    plot_options={\"linewidth\":2.0,\"ls\":\"--\"}\n",
    "    )"
   ]
  },
  {
   "cell_type": "code",
   "execution_count": null,
   "metadata": {},
   "outputs": [],
   "source": []
  }
 ],
 "metadata": {
  "kernelspec": {
   "display_name": "Python 3",
   "language": "python",
   "name": "python3"
  },
  "language_info": {
   "codemirror_mode": {
    "name": "ipython",
    "version": 3
   },
   "file_extension": ".py",
   "mimetype": "text/x-python",
   "name": "python",
   "nbconvert_exporter": "python",
   "pygments_lexer": "ipython3",
   "version": "3.10.12"
  }
 },
 "nbformat": 4,
 "nbformat_minor": 2
}
