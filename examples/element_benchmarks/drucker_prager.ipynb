{
 "cells": [
  {
   "cell_type": "code",
   "execution_count": 1,
   "metadata": {},
   "outputs": [],
   "source": [
    "\n",
    "%load_ext autoreload\n",
    "%autoreload 2\n",
    "\n",
    "import jax.numpy as jnp\n",
    "import jax\n",
    "import matplotlib.pyplot as plt\n",
    "import pymudokon as pm\n",
    "\n",
    "jax.config.update('jax_platform_name', 'cpu')\n"
   ]
  },
  {
   "cell_type": "code",
   "execution_count": 2,
   "metadata": {},
   "outputs": [
    {
     "data": {
      "text/plain": [
       "<Figure size 640x480 with 0 Axes>"
      ]
     },
     "metadata": {},
     "output_type": "display_data"
    },
    {
     "data": {
      "text/plain": [
       "<Figure size 640x480 with 0 Axes>"
      ]
     },
     "metadata": {},
     "output_type": "display_data"
    },
    {
     "data": {
      "text/plain": [
       "<Figure size 640x480 with 0 Axes>"
      ]
     },
     "metadata": {},
     "output_type": "display_data"
    },
    {
     "data": {
      "text/plain": [
       "<Figure size 640x480 with 0 Axes>"
      ]
     },
     "metadata": {},
     "output_type": "display_data"
    },
    {
     "data": {
      "text/plain": [
       "<Figure size 640x480 with 0 Axes>"
      ]
     },
     "metadata": {},
     "output_type": "display_data"
    },
    {
     "data": {
      "text/plain": [
       "<Figure size 640x480 with 0 Axes>"
      ]
     },
     "metadata": {},
     "output_type": "display_data"
    },
    {
     "data": {
      "text/plain": [
       "<Figure size 640x480 with 0 Axes>"
      ]
     },
     "metadata": {},
     "output_type": "display_data"
    }
   ],
   "source": [
    "carry, accumulate = pm.simple_shear_wrapper(\n",
    "    pm.DruckerPrager,\n",
    "    [5e8, 0.2, jnp.deg2rad(15), jnp.deg2rad(15), 0.0, 5e7, 0],\n",
    "    target=0.5,\n",
    "    dt=1e-3,\n",
    "    stress_ref= -1000.0 * jnp.eye(3).reshape(3, 3),\n",
    ")\n",
    "material_stack,  stress_stack, volume_fraction_stack, strain_rate_stack = accumulate\n",
    "\n",
    "fig_ax_stack = pm.plot_suite(\n",
    "    \"./output/dp_ss_friction_angle_\",\n",
    "    strain_rate_stack,\n",
    "    stress_stack,\n",
    "    volume_fraction_stack,\n",
    "    material_stack,\n",
    "    )"
   ]
  },
  {
   "cell_type": "code",
   "execution_count": 3,
   "metadata": {},
   "outputs": [
    {
     "ename": "AssertionError",
     "evalue": "[Chex] Assertion assert_shape failed: Error in shape compatibility check: input 0 has shape (1, 3, 3) but expected (3, 3).",
     "output_type": "error",
     "traceback": [
      "\u001b[0;31m---------------------------------------------------------------------------\u001b[0m",
      "\u001b[0;31mAssertionError\u001b[0m                            Traceback (most recent call last)",
      "Cell \u001b[0;32mIn[3], line 2\u001b[0m\n\u001b[1;32m      1\u001b[0m \u001b[38;5;66;03m# Isotropic decompression, test return mapping to apex\u001b[39;00m\n\u001b[0;32m----> 2\u001b[0m carry, accumulate \u001b[38;5;241m=\u001b[39m \u001b[43mpm\u001b[49m\u001b[38;5;241;43m.\u001b[39;49m\u001b[43misotropic_compression_wrapper\u001b[49m\u001b[43m(\u001b[49m\n\u001b[1;32m      3\u001b[0m \u001b[43m    \u001b[49m\u001b[43mpm\u001b[49m\u001b[38;5;241;43m.\u001b[39;49m\u001b[43mDruckerPrager\u001b[49m\u001b[43m,\u001b[49m\n\u001b[1;32m      4\u001b[0m \u001b[43m    \u001b[49m\u001b[43m[\u001b[49m\u001b[38;5;241;43m5e8\u001b[39;49m\u001b[43m,\u001b[49m\u001b[43m \u001b[49m\u001b[38;5;241;43m0.2\u001b[39;49m\u001b[43m,\u001b[49m\u001b[43m \u001b[49m\u001b[43mjnp\u001b[49m\u001b[38;5;241;43m.\u001b[39;49m\u001b[43mdeg2rad\u001b[49m\u001b[43m(\u001b[49m\u001b[38;5;241;43m15\u001b[39;49m\u001b[43m)\u001b[49m\u001b[43m,\u001b[49m\u001b[43m \u001b[49m\u001b[43mjnp\u001b[49m\u001b[38;5;241;43m.\u001b[39;49m\u001b[43mdeg2rad\u001b[49m\u001b[43m(\u001b[49m\u001b[38;5;241;43m15\u001b[39;49m\u001b[43m)\u001b[49m\u001b[43m,\u001b[49m\u001b[43m \u001b[49m\u001b[38;5;241;43m10\u001b[39;49m\u001b[43m,\u001b[49m\u001b[43m \u001b[49m\u001b[38;5;241;43m1.0\u001b[39;49m\u001b[43m,\u001b[49m\u001b[43m \u001b[49m\u001b[38;5;241;43m0\u001b[39;49m\u001b[43m]\u001b[49m\u001b[43m,\u001b[49m\n\u001b[1;32m      5\u001b[0m \u001b[43m    \u001b[49m\u001b[43mtarget\u001b[49m\u001b[38;5;241;43m=\u001b[39;49m\u001b[38;5;241;43m-\u001b[39;49m\u001b[38;5;241;43m0.5\u001b[39;49m\u001b[43m,\u001b[49m\n\u001b[1;32m      6\u001b[0m \u001b[43m    \u001b[49m\u001b[43mdt\u001b[49m\u001b[38;5;241;43m=\u001b[39;49m\u001b[38;5;241;43m1e-3\u001b[39;49m\u001b[43m,\u001b[49m\n\u001b[1;32m      7\u001b[0m \u001b[43m    \u001b[49m\u001b[43mstress_ref\u001b[49m\u001b[43m \u001b[49m\u001b[38;5;241;43m=\u001b[39;49m\u001b[38;5;241;43m-\u001b[39;49m\u001b[38;5;241;43m1000.0\u001b[39;49m\u001b[43m \u001b[49m\u001b[38;5;241;43m*\u001b[39;49m\u001b[43m \u001b[49m\u001b[43mjnp\u001b[49m\u001b[38;5;241;43m.\u001b[39;49m\u001b[43meye\u001b[49m\u001b[43m(\u001b[49m\u001b[38;5;241;43m3\u001b[39;49m\u001b[43m)\u001b[49m\u001b[38;5;241;43m.\u001b[39;49m\u001b[43mreshape\u001b[49m\u001b[43m(\u001b[49m\u001b[38;5;241;43m1\u001b[39;49m\u001b[43m,\u001b[49m\u001b[43m \u001b[49m\u001b[38;5;241;43m3\u001b[39;49m\u001b[43m,\u001b[49m\u001b[43m \u001b[49m\u001b[38;5;241;43m3\u001b[39;49m\u001b[43m)\u001b[49m\n\u001b[1;32m      8\u001b[0m \u001b[43m)\u001b[49m\n\u001b[1;32m     10\u001b[0m material_stack, stress_stack, volume_fraction_stack, strain_rate_stack \u001b[38;5;241m=\u001b[39m accumulate\n\u001b[1;32m     12\u001b[0m fig_ax_stack \u001b[38;5;241m=\u001b[39m pm\u001b[38;5;241m.\u001b[39mplot_suite(\n\u001b[1;32m     13\u001b[0m     \u001b[38;5;124m\"\u001b[39m\u001b[38;5;124m./output/dp_ss_friction_angle_\u001b[39m\u001b[38;5;124m\"\u001b[39m,\n\u001b[1;32m     14\u001b[0m     strain_rate_stack,\n\u001b[0;32m   (...)\u001b[0m\n\u001b[1;32m     17\u001b[0m     material_stack,\n\u001b[1;32m     18\u001b[0m     )\n",
      "File \u001b[0;32m~/Projects/PyMudokonMPM/pymudokon/materials_analysis/deformation_wrappers.py:80\u001b[0m, in \u001b[0;36misotropic_compression_wrapper\u001b[0;34m(material, material_params, total_time, dt, target, volume_fraction, stress_ref)\u001b[0m\n\u001b[1;32m     76\u001b[0m stress_stack \u001b[38;5;241m=\u001b[39m jnp\u001b[38;5;241m.\u001b[39mzeros((num_steps, \u001b[38;5;241m3\u001b[39m, \u001b[38;5;241m3\u001b[39m))\n\u001b[1;32m     78\u001b[0m material \u001b[38;5;241m=\u001b[39m material\u001b[38;5;241m.\u001b[39mcreate(\u001b[38;5;241m*\u001b[39mmaterial_params, stress_ref\u001b[38;5;241m=\u001b[39mstress_ref\u001b[38;5;241m.\u001b[39mreshape(\u001b[38;5;241m1\u001b[39m, \u001b[38;5;241m3\u001b[39m, \u001b[38;5;241m3\u001b[39m))\n\u001b[0;32m---> 80\u001b[0m \u001b[38;5;28;01mreturn\u001b[39;00m \u001b[43mmix_control\u001b[49m\u001b[43m(\u001b[49m\u001b[43mmaterial\u001b[49m\u001b[43m,\u001b[49m\u001b[43m \u001b[49m\u001b[43mstrain_rate_stack\u001b[49m\u001b[43m,\u001b[49m\u001b[43m \u001b[49m\u001b[43mstress_stack\u001b[49m\u001b[43m,\u001b[49m\u001b[43m \u001b[49m\u001b[43mmask\u001b[49m\u001b[43m,\u001b[49m\u001b[43m \u001b[49m\u001b[43mvolume_fraction\u001b[49m\u001b[43m,\u001b[49m\u001b[43m \u001b[49m\u001b[43mstress_ref\u001b[49m\u001b[43m,\u001b[49m\u001b[43m \u001b[49m\u001b[43mdt\u001b[49m\u001b[43m)\u001b[49m\n",
      "File \u001b[0;32m~/Projects/PyMudokonMPM/pymudokon/materials_analysis/mix_control.py:62\u001b[0m, in \u001b[0;36mmix_control\u001b[0;34m(material, strain_rate_stack, stress_stack, mask, volume_fraction, stress_ref, dt, learning_rate, num_opt_iter)\u001b[0m\n\u001b[1;32m     60\u001b[0m chex\u001b[38;5;241m.\u001b[39massert_shape(mask, (\u001b[38;5;241m3\u001b[39m, \u001b[38;5;241m3\u001b[39m))\n\u001b[1;32m     61\u001b[0m chex\u001b[38;5;241m.\u001b[39massert_shape(volume_fraction, ())\n\u001b[0;32m---> 62\u001b[0m \u001b[43mchex\u001b[49m\u001b[38;5;241;43m.\u001b[39;49m\u001b[43massert_shape\u001b[49m\u001b[43m(\u001b[49m\u001b[43mstress_ref\u001b[49m\u001b[43m,\u001b[49m\u001b[43m \u001b[49m\u001b[43m(\u001b[49m\u001b[38;5;241;43m3\u001b[39;49m\u001b[43m,\u001b[49m\u001b[43m \u001b[49m\u001b[38;5;241;43m3\u001b[39;49m\u001b[43m)\u001b[49m\u001b[43m)\u001b[49m\n\u001b[1;32m     63\u001b[0m chex\u001b[38;5;241m.\u001b[39massert_shape(material\u001b[38;5;241m.\u001b[39mstress_ref, (\u001b[38;5;241m1\u001b[39m, \u001b[38;5;241m3\u001b[39m, \u001b[38;5;241m3\u001b[39m))\n\u001b[1;32m     65\u001b[0m servo_params \u001b[38;5;241m=\u001b[39m jnp\u001b[38;5;241m.\u001b[39mzeros((\u001b[38;5;241m3\u001b[39m, \u001b[38;5;241m3\u001b[39m))\u001b[38;5;241m.\u001b[39mat[mask]\u001b[38;5;241m.\u001b[39mget()\n",
      "File \u001b[0;32m~/Projects/PyMudokonMPM/.venv/lib/python3.10/site-packages/chex/_src/asserts_internal.py:278\u001b[0m, in \u001b[0;36mchex_assertion.<locals>._chex_assert_fn\u001b[0;34m(custom_message, custom_message_format_vars, include_default_message, exception_type, *args, **kwargs)\u001b[0m\n\u001b[1;32m    276\u001b[0m \u001b[38;5;28;01melse\u001b[39;00m:\n\u001b[1;32m    277\u001b[0m   \u001b[38;5;28;01mtry\u001b[39;00m:\n\u001b[0;32m--> 278\u001b[0m     \u001b[43mhost_assertion_fn\u001b[49m\u001b[43m(\u001b[49m\n\u001b[1;32m    279\u001b[0m \u001b[43m        \u001b[49m\u001b[38;5;241;43m*\u001b[39;49m\u001b[43margs\u001b[49m\u001b[43m,\u001b[49m\n\u001b[1;32m    280\u001b[0m \u001b[43m        \u001b[49m\u001b[43mcustom_message\u001b[49m\u001b[38;5;241;43m=\u001b[39;49m\u001b[43mcustom_message\u001b[49m\u001b[43m,\u001b[49m\n\u001b[1;32m    281\u001b[0m \u001b[43m        \u001b[49m\u001b[43mcustom_message_format_vars\u001b[49m\u001b[38;5;241;43m=\u001b[39;49m\u001b[43mcustom_message_format_vars\u001b[49m\u001b[43m,\u001b[49m\n\u001b[1;32m    282\u001b[0m \u001b[43m        \u001b[49m\u001b[43minclude_default_message\u001b[49m\u001b[38;5;241;43m=\u001b[39;49m\u001b[43minclude_default_message\u001b[49m\u001b[43m,\u001b[49m\n\u001b[1;32m    283\u001b[0m \u001b[43m        \u001b[49m\u001b[43mexception_type\u001b[49m\u001b[38;5;241;43m=\u001b[39;49m\u001b[43mexception_type\u001b[49m\u001b[43m,\u001b[49m\n\u001b[1;32m    284\u001b[0m \u001b[43m        \u001b[49m\u001b[38;5;241;43m*\u001b[39;49m\u001b[38;5;241;43m*\u001b[39;49m\u001b[43mkwargs\u001b[49m\u001b[43m)\u001b[49m\n\u001b[1;32m    285\u001b[0m   \u001b[38;5;28;01mexcept\u001b[39;00m jax\u001b[38;5;241m.\u001b[39merrors\u001b[38;5;241m.\u001b[39mConcretizationTypeError \u001b[38;5;28;01mas\u001b[39;00m exc:\n\u001b[1;32m    286\u001b[0m     msg \u001b[38;5;241m=\u001b[39m (\u001b[38;5;124m\"\u001b[39m\u001b[38;5;124mChex assertion detected `ConcretizationTypeError`: it is very \u001b[39m\u001b[38;5;124m\"\u001b[39m\n\u001b[1;32m    287\u001b[0m            \u001b[38;5;124m\"\u001b[39m\u001b[38;5;124mlikely that it tried to access tensors\u001b[39m\u001b[38;5;124m'\u001b[39m\u001b[38;5;124m values during tracing. \u001b[39m\u001b[38;5;124m\"\u001b[39m\n\u001b[1;32m    288\u001b[0m            \u001b[38;5;124m\"\u001b[39m\u001b[38;5;124mMake sure that you defined a jittable version of this chex \u001b[39m\u001b[38;5;124m\"\u001b[39m\n\u001b[1;32m    289\u001b[0m            \u001b[38;5;124m\"\u001b[39m\u001b[38;5;124massertion; if that does not help, please file a bug.\u001b[39m\u001b[38;5;124m\"\u001b[39m)\n",
      "File \u001b[0;32m~/Projects/PyMudokonMPM/.venv/lib/python3.10/site-packages/chex/_src/asserts_internal.py:196\u001b[0m, in \u001b[0;36m_make_host_assertion.<locals>._assert_on_host\u001b[0;34m(custom_message, custom_message_format_vars, include_default_message, exception_type, *args, **kwargs)\u001b[0m\n\u001b[1;32m    193\u001b[0m     custom_message \u001b[38;5;241m=\u001b[39m custom_message\u001b[38;5;241m.\u001b[39mformat(\u001b[38;5;241m*\u001b[39mcustom_message_format_vars)\n\u001b[1;32m    194\u001b[0m   error_msg \u001b[38;5;241m=\u001b[39m \u001b[38;5;124mf\u001b[39m\u001b[38;5;124m\"\u001b[39m\u001b[38;5;132;01m{\u001b[39;00merror_msg\u001b[38;5;132;01m}\u001b[39;00m\u001b[38;5;124m [\u001b[39m\u001b[38;5;132;01m{\u001b[39;00mcustom_message\u001b[38;5;132;01m}\u001b[39;00m\u001b[38;5;124m]\u001b[39m\u001b[38;5;124m\"\u001b[39m\n\u001b[0;32m--> 196\u001b[0m \u001b[38;5;28;01mraise\u001b[39;00m exception_type(error_msg)\n",
      "\u001b[0;31mAssertionError\u001b[0m: [Chex] Assertion assert_shape failed: Error in shape compatibility check: input 0 has shape (1, 3, 3) but expected (3, 3)."
     ]
    }
   ],
   "source": [
    "\n",
    "# # Isotropic decompression, test return mapping to apex\n",
    "# carry, accumulate = pm.isotropic_compression_wrapper(\n",
    "#     pm.DruckerPrager,\n",
    "#     [5e8, 0.2, jnp.deg2rad(15), jnp.deg2rad(15), 10, 1.0, 0],\n",
    "#     target=-0.5,\n",
    "#     dt=1e-3,\n",
    "#     stress_ref =-1000.0 * jnp.eye(3).reshape(1, 3, 3)\n",
    "# )\n",
    "\n",
    "# material_stack, stress_stack, volume_fraction_stack, strain_rate_stack = accumulate\n",
    "\n",
    "# fig_ax_stack = pm.plot_suite(\n",
    "#     \"./output/dp_ss_friction_angle_\",\n",
    "#     strain_rate_stack,\n",
    "#     stress_stack,\n",
    "#     volume_fraction_stack,\n",
    "#     material_stack,\n",
    "#     )\n",
    "\n",
    "# fig,ax = pm.plot_q_p(\n",
    "#     stress_stack=stress_stack,\n",
    "#     normalize_stress=1,\n",
    "# )\n",
    "\n",
    "# ax.set_ylim([-0.1, 0.4])\n",
    "\n",
    "# ax.set_xlim([-200, 1000])"
   ]
  },
  {
   "cell_type": "code",
   "execution_count": 7,
   "metadata": {},
   "outputs": [
    {
     "name": "stdout",
     "output_type": "stream",
     "text": [
      "(25000, 3, 3)\n"
     ]
    },
    {
     "data": {
      "text/plain": [
       "<Figure size 640x480 with 0 Axes>"
      ]
     },
     "metadata": {},
     "output_type": "display_data"
    },
    {
     "data": {
      "text/plain": [
       "<Figure size 640x480 with 0 Axes>"
      ]
     },
     "metadata": {},
     "output_type": "display_data"
    },
    {
     "data": {
      "text/plain": [
       "<Figure size 640x480 with 0 Axes>"
      ]
     },
     "metadata": {},
     "output_type": "display_data"
    },
    {
     "data": {
      "text/plain": [
       "<Figure size 640x480 with 0 Axes>"
      ]
     },
     "metadata": {},
     "output_type": "display_data"
    },
    {
     "data": {
      "text/plain": [
       "<Figure size 640x480 with 0 Axes>"
      ]
     },
     "metadata": {},
     "output_type": "display_data"
    },
    {
     "data": {
      "text/plain": [
       "<Figure size 640x480 with 0 Axes>"
      ]
     },
     "metadata": {},
     "output_type": "display_data"
    },
    {
     "data": {
      "text/plain": [
       "<Figure size 640x480 with 0 Axes>"
      ]
     },
     "metadata": {},
     "output_type": "display_data"
    }
   ],
   "source": [
    "carry, accumulate = pm.triaxial_compression_wrapper(\n",
    "    pm.DruckerPrager,\n",
    "    [5e8, 0.2, jnp.deg2rad(15), jnp.deg2rad(15), 10, 1.0, 0],\n",
    "    strain_target=-0.2,\n",
    "    dt=1e-3,\n",
    "    confine_pressure=1000.0,\n",
    "    stress_ref=-1000.0 * jnp.eye(3).reshape(3, 3),\n",
    ")\n",
    "material_stack,  stress_stack, volume_fraction_stack, strain_rate_stack = accumulate\n",
    "fig_ax_stack = pm.plot_suite(\n",
    "    \"./output/dp_trx_\",\n",
    "    strain_rate_stack,\n",
    "    stress_stack,\n",
    "    volume_fraction_stack,\n",
    "    material_stack,\n",
    ")\n",
    "print(jnp.shape(stress_stack))"
   ]
  },
  {
   "cell_type": "code",
   "execution_count": null,
   "metadata": {},
   "outputs": [],
   "source": []
  }
 ],
 "metadata": {
  "kernelspec": {
   "display_name": "Python 3",
   "language": "python",
   "name": "python3"
  },
  "language_info": {
   "codemirror_mode": {
    "name": "ipython",
    "version": 3
   },
   "file_extension": ".py",
   "mimetype": "text/x-python",
   "name": "python",
   "nbconvert_exporter": "python",
   "pygments_lexer": "ipython3",
   "version": "3.10.12"
  }
 },
 "nbformat": 4,
 "nbformat_minor": 2
}
