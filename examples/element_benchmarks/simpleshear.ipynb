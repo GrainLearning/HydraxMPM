{
 "cells": [
  {
   "cell_type": "code",
   "execution_count": null,
   "metadata": {},
   "outputs": [],
   "source": [
    "# Code to be revised"
   ]
  },
  {
   "cell_type": "code",
   "execution_count": 13,
   "metadata": {},
   "outputs": [
    {
     "name": "stdout",
     "output_type": "stream",
     "text": [
      "The autoreload extension is already loaded. To reload it, use:\n",
      "  %reload_ext autoreload\n"
     ]
    }
   ],
   "source": [
    "%load_ext autoreload\n",
    "%autoreload 2\n",
    "\n",
    "import jax.numpy as jnp\n",
    "import jax\n",
    "import matplotlib.pyplot as plt\n",
    "import pymudokon as pm\n",
    "\n",
    "plt.style.use(\"dark_background\")\n",
    "jax.config.update('jax_platform_name', 'cpu')\n"
   ]
  },
  {
   "cell_type": "code",
   "execution_count": 14,
   "metadata": {},
   "outputs": [],
   "source": [
    "stress_list = None\n",
    "strain_list = None\n",
    "@jax.tree_util.Partial\n",
    "def save_data(package):\n",
    "    global stress_list, strain_list\n",
    "    step, stress, material, eps, *_ = package\n",
    "    \n",
    "    if stress_list is None:\n",
    "        stress_list = stress\n",
    "    else:\n",
    "        stress_list = jnp.concat((stress_list, stress), axis=0)\n",
    "    \n",
    "    if strain_list is None:\n",
    "        strain_list = eps\n",
    "    else:\n",
    "        strain_list = jnp.concat((strain_list, eps), axis=0)\n",
    "    \n",
    "    print(f\"Step: {step}\", end=\"\\r\")\n",
    "\n",
    "total_time = 25.0\n",
    "timestep = 0.01\n",
    "strain_target = 0.005\n",
    "num_steps = int(total_time/timestep)\n",
    "\n",
    "num_particles =1\n",
    "\n",
    "strain_target_list = -jnp.linspace(0,strain_target,num_steps)\n",
    "\n",
    "eps_path = jnp.vstack([strain_target_list for _ in range(num_particles)])"
   ]
  },
  {
   "cell_type": "code",
   "execution_count": 15,
   "metadata": {},
   "outputs": [],
   "source": [
    "\n",
    "stress_ref = jnp.tile(-100000.0*jnp.eye(3), (num_particles, 1, 1))\n",
    "\n",
    "material = pm.ModifiedCamClay.register(\n",
    "    E = 5e4,\n",
    "    nu = 0.3,\n",
    "    M = 1.2,\n",
    "    lam = 0.62,\n",
    "    kap = 0.055,\n",
    "    Vs = 0.8,\n",
    "    R = 1,\n",
    "    stress_ref= stress_ref,\n",
    "    num_particles =num_particles\n",
    ")\n",
    "\n",
    "volumes = jnp.ones(num_particles)\n"
   ]
  },
  {
   "cell_type": "code",
   "execution_count": 18,
   "metadata": {},
   "outputs": [
    {
     "name": "stdout",
     "output_type": "stream",
     "text": [
      "Step: 2450\r"
     ]
    }
   ],
   "source": [
    "%timeit\n",
    "material = pm.simple_shear(material,eps_path,volumes,timestep,50,save_data)"
   ]
  },
  {
   "cell_type": "code",
   "execution_count": null,
   "metadata": {},
   "outputs": [],
   "source": []
  },
  {
   "cell_type": "code",
   "execution_count": 25,
   "metadata": {},
   "outputs": [
    {
     "ename": "TypeError",
     "evalue": "'NoneType' object is not subscriptable",
     "output_type": "error",
     "traceback": [
      "\u001b[0;31m---------------------------------------------------------------------------\u001b[0m",
      "\u001b[0;31mTypeError\u001b[0m                                 Traceback (most recent call last)",
      "Cell \u001b[0;32mIn[25], line 4\u001b[0m\n\u001b[1;32m      1\u001b[0m fig_tg, ax_tg \u001b[38;5;241m=\u001b[39m plt\u001b[38;5;241m.\u001b[39msubplots()\n\u001b[1;32m      2\u001b[0m fig_pq, ax_pq \u001b[38;5;241m=\u001b[39m plt\u001b[38;5;241m.\u001b[39msubplots()\n\u001b[0;32m----> 4\u001b[0m \u001b[43mpm\u001b[49m\u001b[38;5;241;43m.\u001b[39;49m\u001b[43mplot_tau_gamma\u001b[49m\u001b[43m(\u001b[49m\n\u001b[1;32m      5\u001b[0m \u001b[43m    \u001b[49m\u001b[43mstress_list\u001b[49m\u001b[43m,\u001b[49m\n\u001b[1;32m      6\u001b[0m \u001b[43m    \u001b[49m\u001b[43mstrain_list\u001b[49m\u001b[43m,\u001b[49m\n\u001b[1;32m      7\u001b[0m \u001b[43m    \u001b[49m\u001b[43mfig_ax\u001b[49m\u001b[43m \u001b[49m\u001b[38;5;241;43m=\u001b[39;49m\u001b[43m \u001b[49m\u001b[43m(\u001b[49m\u001b[43mfig_tg\u001b[49m\u001b[43m,\u001b[49m\u001b[43max_tg\u001b[49m\u001b[43m)\u001b[49m\u001b[43m,\u001b[49m\n\u001b[1;32m      8\u001b[0m \u001b[43m    \u001b[49m\u001b[43mplot_options\u001b[49m\u001b[38;5;241;43m=\u001b[39;49m\u001b[43m{\u001b[49m\u001b[38;5;124;43m\"\u001b[39;49m\u001b[38;5;124;43mlinewidth\u001b[39;49m\u001b[38;5;124;43m\"\u001b[39;49m\u001b[43m:\u001b[49m\u001b[38;5;241;43m2.0\u001b[39;49m\u001b[43m,\u001b[49m\u001b[38;5;124;43m\"\u001b[39;49m\u001b[38;5;124;43mls\u001b[39;49m\u001b[38;5;124;43m\"\u001b[39;49m\u001b[43m:\u001b[49m\u001b[38;5;124;43m\"\u001b[39;49m\u001b[38;5;124;43m--\u001b[39;49m\u001b[38;5;124;43m\"\u001b[39;49m\u001b[43m}\u001b[49m\n\u001b[1;32m      9\u001b[0m \u001b[43m)\u001b[49m\n\u001b[1;32m     11\u001b[0m pm\u001b[38;5;241m.\u001b[39mplot_q_p(\n\u001b[1;32m     12\u001b[0m     stress_list,\n\u001b[1;32m     13\u001b[0m     fig_ax \u001b[38;5;241m=\u001b[39m (fig_pq,ax_pq),\n\u001b[1;32m     14\u001b[0m     plot_options\u001b[38;5;241m=\u001b[39m{\u001b[38;5;124m\"\u001b[39m\u001b[38;5;124mlinewidth\u001b[39m\u001b[38;5;124m\"\u001b[39m:\u001b[38;5;241m2.0\u001b[39m,\u001b[38;5;124m\"\u001b[39m\u001b[38;5;124mls\u001b[39m\u001b[38;5;124m\"\u001b[39m:\u001b[38;5;124m\"\u001b[39m\u001b[38;5;124m--\u001b[39m\u001b[38;5;124m\"\u001b[39m}\n\u001b[1;32m     15\u001b[0m     )\n",
      "File \u001b[0;32m~/Projects/PymudokonMPM/pymudokon/ip_benchmarks/plotting.py:274\u001b[0m, in \u001b[0;36mplot_tau_gamma\u001b[0;34m(stress_list, strain_list, fig_ax, normalize_stress, file, plot_options, savefig_option)\u001b[0m\n\u001b[1;32m    265\u001b[0m \u001b[38;5;28;01mdef\u001b[39;00m \u001b[38;5;21mplot_tau_gamma\u001b[39m(\n\u001b[1;32m    266\u001b[0m     stress_list,\n\u001b[1;32m    267\u001b[0m     strain_list,\n\u001b[0;32m   (...)\u001b[0m\n\u001b[1;32m    272\u001b[0m     savefig_option\u001b[38;5;241m=\u001b[39m{},\n\u001b[1;32m    273\u001b[0m ):\n\u001b[0;32m--> 274\u001b[0m     tau_list \u001b[38;5;241m=\u001b[39m \u001b[43mget_tau\u001b[49m\u001b[43m(\u001b[49m\u001b[43mstress_list\u001b[49m\u001b[43m)\u001b[49m\n\u001b[1;32m    276\u001b[0m     gamma_list \u001b[38;5;241m=\u001b[39m get_gamma(strain_list)\n\u001b[1;32m    278\u001b[0m     \u001b[38;5;28;01mif\u001b[39;00m fig_ax \u001b[38;5;129;01mis\u001b[39;00m \u001b[38;5;28;01mNone\u001b[39;00m:\n",
      "File \u001b[0;32m~/Projects/PymudokonMPM/pymudokon/ip_benchmarks/math_helpers.py:36\u001b[0m, in \u001b[0;36mget_tau\u001b[0;34m(stress_list, dev_stress_list)\u001b[0m\n\u001b[1;32m     34\u001b[0m \u001b[38;5;28;01mdef\u001b[39;00m \u001b[38;5;21mget_tau\u001b[39m(stress_list, dev_stress_list\u001b[38;5;241m=\u001b[39m\u001b[38;5;28;01mNone\u001b[39;00m):\n\u001b[1;32m     35\u001b[0m     \u001b[38;5;28;01mif\u001b[39;00m dev_stress_list \u001b[38;5;129;01mis\u001b[39;00m \u001b[38;5;28;01mNone\u001b[39;00m:\n\u001b[0;32m---> 36\u001b[0m         dev_stress_list \u001b[38;5;241m=\u001b[39m \u001b[43mget_dev_stress\u001b[49m\u001b[43m(\u001b[49m\u001b[43mstress_list\u001b[49m\u001b[43m)\u001b[49m\n\u001b[1;32m     38\u001b[0m     tau_list \u001b[38;5;241m=\u001b[39m np\u001b[38;5;241m.\u001b[39marray(\n\u001b[1;32m     39\u001b[0m         \u001b[38;5;28mlist\u001b[39m(\n\u001b[1;32m     40\u001b[0m             \u001b[38;5;28mmap\u001b[39m(\n\u001b[0;32m   (...)\u001b[0m\n\u001b[1;32m     44\u001b[0m         ),\n\u001b[1;32m     45\u001b[0m     )\n\u001b[1;32m     46\u001b[0m     \u001b[38;5;28;01mreturn\u001b[39;00m tau_list\n",
      "File \u001b[0;32m~/Projects/PymudokonMPM/pymudokon/ip_benchmarks/math_helpers.py:13\u001b[0m, in \u001b[0;36mget_dev_stress\u001b[0;34m(stress_list, pressure_list)\u001b[0m\n\u001b[1;32m     11\u001b[0m \u001b[38;5;28;01mdef\u001b[39;00m \u001b[38;5;21mget_dev_stress\u001b[39m(stress_list, pressure_list\u001b[38;5;241m=\u001b[39m\u001b[38;5;28;01mNone\u001b[39;00m):\n\u001b[1;32m     12\u001b[0m     \u001b[38;5;28;01mif\u001b[39;00m pressure_list \u001b[38;5;129;01mis\u001b[39;00m \u001b[38;5;28;01mNone\u001b[39;00m:\n\u001b[0;32m---> 13\u001b[0m         pressure_list \u001b[38;5;241m=\u001b[39m \u001b[43mget_pressure\u001b[49m\u001b[43m(\u001b[49m\u001b[43mstress_list\u001b[49m\u001b[43m)\u001b[49m\n\u001b[1;32m     15\u001b[0m     dev_stress_list \u001b[38;5;241m=\u001b[39m stress_list \u001b[38;5;241m+\u001b[39m np\u001b[38;5;241m.\u001b[39midentity(\u001b[38;5;241m3\u001b[39m) \u001b[38;5;241m*\u001b[39m pressure_list[:, \u001b[38;5;28;01mNone\u001b[39;00m, \u001b[38;5;28;01mNone\u001b[39;00m]\n\u001b[1;32m     16\u001b[0m     \u001b[38;5;28;01mreturn\u001b[39;00m dev_stress_list\n",
      "File \u001b[0;32m~/Projects/PymudokonMPM/pymudokon/ip_benchmarks/math_helpers.py:6\u001b[0m, in \u001b[0;36mget_pressure\u001b[0;34m(stress_list)\u001b[0m\n\u001b[1;32m      4\u001b[0m \u001b[38;5;28;01mdef\u001b[39;00m \u001b[38;5;21mget_pressure\u001b[39m(stress_list):\n\u001b[1;32m      5\u001b[0m     pressure_list \u001b[38;5;241m=\u001b[39m \u001b[38;5;241m-\u001b[39m(\u001b[38;5;241m1\u001b[39m \u001b[38;5;241m/\u001b[39m \u001b[38;5;241m3.0\u001b[39m) \u001b[38;5;241m*\u001b[39m (\n\u001b[0;32m----> 6\u001b[0m         \u001b[43mstress_list\u001b[49m\u001b[43m[\u001b[49m\u001b[43m:\u001b[49m\u001b[43m,\u001b[49m\u001b[43m \u001b[49m\u001b[38;5;241;43m0\u001b[39;49m\u001b[43m,\u001b[49m\u001b[43m \u001b[49m\u001b[38;5;241;43m0\u001b[39;49m\u001b[43m]\u001b[49m \u001b[38;5;241m+\u001b[39m stress_list[:, \u001b[38;5;241m1\u001b[39m, \u001b[38;5;241m1\u001b[39m] \u001b[38;5;241m+\u001b[39m stress_list[:, \u001b[38;5;241m2\u001b[39m, \u001b[38;5;241m2\u001b[39m]\n\u001b[1;32m      7\u001b[0m     )\n\u001b[1;32m      8\u001b[0m     \u001b[38;5;28;01mreturn\u001b[39;00m pressure_list\n",
      "\u001b[0;31mTypeError\u001b[0m: 'NoneType' object is not subscriptable"
     ]
    },
    {
     "data": {
      "image/png": "[encoded data removed]",
      "text/plain": [
       "<Figure size 640x480 with 1 Axes>"
      ]
     },
     "metadata": {},
     "output_type": "display_data"
    },
    {
     "data": {
      "image/png": "[encoded data removed]",
      "text/plain": [
       "<Figure size 640x480 with 1 Axes>"
      ]
     },
     "metadata": {},
     "output_type": "display_data"
    }
   ],
   "source": [
    "fig_tg, ax_tg = plt.subplots()\n",
    "fig_pq, ax_pq = plt.subplots()\n",
    "\n",
    "pm.plot_tau_gamma(\n",
    "    stress_list,\n",
    "    strain_list,\n",
    "    fig_ax = (fig_tg,ax_tg),\n",
    "    plot_options={\"linewidth\":2.0,\"ls\":\"--\"}\n",
    ")\n",
    "\n",
    "pm.plot_q_p(\n",
    "    stress_list,\n",
    "    fig_ax = (fig_pq,ax_pq),\n",
    "    plot_options={\"linewidth\":2.0,\"ls\":\"--\"}\n",
    "    )"
   ]
  },
  {
   "cell_type": "code",
   "execution_count": null,
   "metadata": {},
   "outputs": [],
   "source": []
  }
 ],
 "metadata": {
  "kernelspec": {
   "display_name": "Python 3",
   "language": "python",
   "name": "python3"
  },
  "language_info": {
   "codemirror_mode": {
    "name": "ipython",
    "version": 3
   },
   "file_extension": ".py",
   "mimetype": "text/x-python",
   "name": "python",
   "nbconvert_exporter": "python",
   "pygments_lexer": "ipython3",
   "version": "3.11.6"
  }
 },
 "nbformat": 4,
 "nbformat_minor": 2
}
