{
 "cells": [
  {
   "cell_type": "code",
   "execution_count": 23,
   "metadata": {},
   "outputs": [
    {
     "name": "stdout",
     "output_type": "stream",
     "text": [
      "The autoreload extension is already loaded. To reload it, use:\n",
      "  %reload_ext autoreload\n"
     ]
    }
   ],
   "source": [
    "\n",
    "%load_ext autoreload\n",
    "%autoreload 2\n",
    "\n",
    "import jax.numpy as jnp\n",
    "import jax\n",
    "import matplotlib.pyplot as plt\n",
    "import pymudokon as pm\n",
    "import optax\n",
    "\n",
    "jax.config.update('jax_platform_name', 'cpu')\n",
    "jax.config.update(\"jax_enable_x64\", True)\n",
    "import pandas as pd\n",
    "\n",
    "from jax.scipy.optimize import minimize"
   ]
  },
  {
   "cell_type": "code",
   "execution_count": 24,
   "metadata": {},
   "outputs": [],
   "source": [
    "# d = 1, rhop = 1, e = 0.7, mu = 0, K = 10^3, shear rate = 1\n",
    "names = [\"nu\", \"p\", \"s\", \"T\", \"I\", \"CN\", \"k\"]\n",
    "df_k3 = pd.read_table(\"./DATA_SS/k1ex.data\",sep=\" \", skiprows=2,nrows=21, names = names)\n",
    "df_k4 = pd.read_table(\"./DATA_SS/k1ex.data\",sep=\" \", skiprows=26,nrows=21, names = names)\n",
    "df_k5 = pd.read_table(\"./DATA_SS/k1ex.data\",sep=\" \", skiprows=50,nrows=21, names = names)\n",
    "df_k6 = pd.read_table(\"./DATA_SS/k1ex.data\",sep=\" \", skiprows=74,nrows=26, names= names)\n",
    "df_k7 = pd.read_table(\"./DATA_SS/k1ex.data\",sep=\" \", skiprows=103,nrows=21, names= names)\n",
    "df_k8 = pd.read_table(\"./DATA_SS/k1ex.data\",sep=\" \", skiprows=127,nrows=21, names= names)"
   ]
  },
  {
   "cell_type": "code",
   "execution_count": 25,
   "metadata": {},
   "outputs": [],
   "source": [
    "def df_format(df,d,K):\n",
    "    df[\"pstar\"] = df[\"p\"]*(d/K)\n",
    "    df[\"mu\"] = df[\"s\"]/df[\"p\"]\n",
    "\n",
    "    df[\"e\"] = 1./df[\"nu\"] -1\n",
    "    return df\n",
    "\n",
    "\n",
    "\n",
    "df_k3 = df_format(df_k3,d=1,K=10**3)\n",
    "df_k4 = df_format(df_k4,d=1,K=10**4)\n",
    "df_k5 = df_format(df_k5,d=1,K=10**5)\n",
    "df_k6 = df_format(df_k6,d=1,K=10**6)\n",
    "df_k7 = df_format(df_k7,d=1,K=10**7)\n",
    "df_k8 = df_format(df_k8,d=1,K=10**8)"
   ]
  },
  {
   "cell_type": "code",
   "execution_count": 53,
   "metadata": {},
   "outputs": [
    {
     "data": {
      "text/plain": [
       "<matplotlib.legend.Legend at 0x7fcb203c18d0>"
      ]
     },
     "execution_count": 53,
     "metadata": {},
     "output_type": "execute_result"
    },
    {
     "data": {
      "image/png": "[encoded data removed]",
      "text/plain": [
       "<Figure size 640x480 with 1 Axes>"
      ]
     },
     "metadata": {},
     "output_type": "display_data"
    }
   ],
   "source": [
    "import scipy\n",
    "import numpy as np\n",
    "import scipy.optimize\n",
    "\n",
    "\n",
    "\n",
    "def dilatancy(p, phi, phi_c, I_phi, dgamma_dt, rho_p,d):\n",
    "    \n",
    "    term1 = I_phi*np.log(phi_c / phi)\n",
    "    term2 = (dgamma_dt*d)/jnp.sqrt(p/rho_p)\n",
    "    return term1 - term2\n",
    "\n",
    "def jac(p, phi, phi_c, I_phi, dgamma_dt, rho_p,d):\n",
    "    \n",
    "    term1 = 0\n",
    "    term2 = -0.5*(dgamma_dt*d*jnp.sqrt(rho_p))*p**(-1.5)\n",
    "    # sol = I_phi*np.log(phi_c / phi) - (dgamma_dt*d)/jnp.sqrt(p/rho_p)\n",
    "    # print(p, phi, phi_c, I_phi, dgamma_dt, rho_p,d)\n",
    "    return term1 - term2\n",
    "phi_c =0.634\n",
    "p_phi=0.9\n",
    "I_phi= 3.28\n",
    "rho_p=1\n",
    "dgamma_dt=1\n",
    "d=1\n",
    "# p_phi = 0.33,\n",
    "# I_phi=0.85,\n",
    "\n",
    "tol = 1\n",
    "fig, ax = plt.subplots()\n",
    "phi_stack = np.arange(0.5,0.7,0.01).astype(jnp.float64)\n",
    "p_stack = []\n",
    "for phi in phi_stack:\n",
    "    # sol = scipy.optimize.fsolve(dilatancy, tol, args=(phi, phi_c, I_phi, dgamma_dt, rho_p,d))\n",
    "    # p_stack.append(sol[0])\n",
    "    sol = scipy.optimize.minimize(dilatancy, tol, args=(phi, phi_c, I_phi, dgamma_dt, rho_p,d))\n",
    "    p_stack.append(sol.x[0])\n",
    "    \n",
    "\n",
    "phi_stack = np.array(phi_stack)\n",
    "# ax.plot(phi_stack, p_stack)\n",
    "ax.plot(phi_stack, np.nan_to_num(p_stack), ls=\"--\",lw=2, label=\"Impl\")\n",
    "df_k8.plot(y=\"p\", x=\"nu\", kind=\"scatter\", ax = ax, label=\"K = 10^8\")\n",
    "ax.set_yscale(\"log\")\n",
    "\n",
    "\n",
    "ax.set_xlim(0.5,0.7)\n",
    "\n",
    "ax.legend()"
   ]
  },
  {
   "cell_type": "code",
   "execution_count": null,
   "metadata": {},
   "outputs": [],
   "source": []
  },
  {
   "cell_type": "code",
   "execution_count": null,
   "metadata": {},
   "outputs": [],
   "source": []
  }
 ],
 "metadata": {
  "kernelspec": {
   "display_name": ".venv",
   "language": "python",
   "name": "python3"
  },
  "language_info": {
   "codemirror_mode": {
    "name": "ipython",
    "version": 3
   },
   "file_extension": ".py",
   "mimetype": "text/x-python",
   "name": "python",
   "nbconvert_exporter": "python",
   "pygments_lexer": "ipython3",
   "version": "3.10.12"
  }
 },
 "nbformat": 4,
 "nbformat_minor": 2
}
