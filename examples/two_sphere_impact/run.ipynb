{
 "cells": [
  {
   "cell_type": "code",
   "execution_count": null,
   "metadata": {},
   "outputs": [],
   "source": [
    "import jax.numpy as jnp\n",
    "import numpy as np\n",
    "\n",
    "import pymudokon as pm\n",
    "\n",
    "import matplotlib.pyplot as plt"
   ]
  },
  {
   "cell_type": "code",
   "execution_count": null,
   "metadata": {},
   "outputs": [],
   "source": [
    "particles_per_cell = 4\n",
    "\n",
    "total_steps, output_steps, output_start = 3000, 100, 0\n",
    "\n",
    "circle1_center = np.array([0.255, 0.255])\n",
    "circle2_center = np.array([0.745, 0.745])\n",
    "circle_radius = 0.2\n"
   ]
  },
  {
   "cell_type": "code",
   "execution_count": null,
   "metadata": {},
   "outputs": [],
   "source": [
    "def create_circle(center: np.array, radius: float, cell_size: float, ppc: int = 2):\n",
    "    \"\"\"Generate a circle of particles.\n",
    "\n",
    "    Args:\n",
    "        center (np.array): center of the circle\n",
    "        radius (float): radius of the circle\n",
    "        cell_size (float): size of the background grid cells\n",
    "        ppc (int, optional): particles per cell. Defaults to 2.\n",
    "\n",
    "    Returns:\n",
    "        np.array: coordinates of the particles\n",
    "    \"\"\"\n",
    "    start, end = center - radius, center + radius\n",
    "    spacing = cell_size / (ppc / 2)\n",
    "    tol = +0.00005  # Add a tolerance to avoid numerical issues\n",
    "    x = np.arange(start[0], end[0] + spacing, spacing) + 0.5 * spacing\n",
    "    y = np.arange(start[1], end[1] + spacing, spacing) + 0.5 * spacing\n",
    "    xv, yv = np.meshgrid(x, y)\n",
    "    grid_coords = np.array(list(zip(xv.flatten(), yv.flatten()))).astype(np.float64)\n",
    "    circle_mask = (grid_coords[:, 0] - center[0]) ** 2 + (grid_coords[:, 1] - center[1]) ** 2 < radius**2 + tol\n",
    "    return grid_coords[circle_mask]"
   ]
  },
  {
   "cell_type": "code",
   "execution_count": null,
   "metadata": {},
   "outputs": [],
   "source": [
    "# Create circles of particles and concatenate them into a single array\n",
    "circle_centers = np.array([circle1_center, circle2_center])\n",
    "cell_size = 0.05\n",
    "particles_per_cell = 2\n",
    "\n",
    "\n",
    "circles = [create_circle(center, circle_radius, cell_size, particles_per_cell) for center in circle_centers]\n",
    "pos = np.vstack(circles)\n",
    "\n",
    "\n",
    "velocities = [np.full(circle.shape, 0.1 if i == 0 else -0.1) for i, circle in enumerate(circles)]\n",
    "vels = np.vstack(velocities)\n"
   ]
  },
  {
   "cell_type": "code",
   "execution_count": null,
   "metadata": {},
   "outputs": [],
   "source": [
    "plt.scatter(pos[:,0], pos[:,1]).axes.set(xlim=(0, 1), ylim=(0, 1))"
   ]
  },
  {
   "cell_type": "code",
   "execution_count": null,
   "metadata": {},
   "outputs": [],
   "source": [
    "particles = pm.Particles.register(positions=jnp.array(pos), velocities=jnp.array(vels), original_density=1000)\n",
    "particles = particles.calculate_volume(cell_size, particles_per_cell=4)\n",
    "particles = particles.replace(masses=1000 * particles.volumes)\n",
    "nodes = pm.Nodes.register(origin=jnp.array([0.0, 0.0]), end=jnp.array([1.0, 1.0]), node_spacing=cell_size, particles_per_cell=4)\n",
    "\n",
    "material = pm.LinearIsotropicElastic.register(E=1000.0, nu=0.3, num_particles=len(pos), dim=2)\n",
    "\n",
    "shapefunctions = pm.LinearShapeFunction.register(len(pos), 2)"
   ]
  },
  {
   "cell_type": "code",
   "execution_count": null,
   "metadata": {},
   "outputs": [],
   "source": [
    "usl = pm.USL.register(\n",
    "    particles=particles, nodes=nodes, materials=[material], shapefunctions=shapefunctions, alpha=1.0, dt=0.001\n",
    ")"
   ]
  },
  {
   "cell_type": "code",
   "execution_count": null,
   "metadata": {},
   "outputs": [],
   "source": [
    "import pyvista as pv\n",
    "# requires \n",
    "# apt-get install ffmpeg libsm6 libxext6  -y\n",
    "\n",
    "\n",
    "plotter = pv.Plotter(notebook=True)\n",
    "points_3d = jnp.pad(pos, [(0, 0), (0, 1)], mode=\"constant\").__array__()\n",
    "\n",
    "cloud = pv.PolyData(points_3d)\n",
    "\n",
    "plotter.add_mesh(\n",
    "    points_3d,\n",
    "     color=\"red\", point_size=10\n",
    "    # scalars=z.ravel(),\n",
    "    # lighting=False,\n",
    "    # show_edges=True,\n",
    "    # scalar_bar_args={\"title\": \"Height\"},\n",
    "    # clim=[-1, 1],\n",
    ")\n",
    "\n",
    "plotter.show(jupyter_backend='trame')\n",
    "# plotter.open_gif(\"impact.gif\")\n",
    "\n",
    "# plotter.write_frame()\n",
    "\n",
    "# def some_callback(package):\n",
    "\n",
    "#     usl, step = package  # unused intentionally\n",
    "    \n",
    "#     points = usl.particles.positions\n",
    "\n",
    "\n",
    "#     points_3d = jnp.pad(points, [(0, 0), (0, 1)], mode=\"constant\").__array__()\n",
    "\n",
    "\n",
    "#     plotter.update_coordinates(points_3d, render=False)\n",
    "#     plotter.write_frame()\n",
    "    \n",
    "    \n",
    "# #     velocities_3d = jnp.pad(velocities, [(0, 0), (0, 1)], mode=\"constant\").__array__()\n",
    "\n",
    "#     print(f\"[JAX] output {step}/{total_steps} \\n\")\n",
    "\n",
    "# #     cloud = pv.PolyData(points_3d)\n",
    "\n",
    "# #     # # Add velocities as point data\n",
    "# #     cloud.point_data[\"velocities\"] = velocities_3d\n",
    "\n",
    "# #     cloud.save(f\"./output/particles{step}.vtp\")\n",
    "\n",
    "\n",
    "# usl = usl.solve(num_steps=total_steps, output_step=output_steps, output_function=some_callback)\n",
    "\n",
    "# plotter.close()"
   ]
  },
  {
   "cell_type": "code",
   "execution_count": 1,
   "metadata": {},
   "outputs": [],
   "source": [
    "import pyvista as pv\n",
    "sphere = pv.Sphere()\n",
    "\n",
    "# short example\n",
    "sphere.plot(jupyter_backend='trame')\n",
    "\n",
    "# long example\n",
    "plotter = pv.Plotter(notebook=True)\n",
    "plotter.add_mesh(sphere)\n",
    "plotter.show(jupyter_backend='trame')"
   ]
  },
  {
   "cell_type": "code",
   "execution_count": null,
   "metadata": {},
   "outputs": [],
   "source": []
  }
 ],
 "metadata": {
  "kernelspec": {
   "display_name": ".venv",
   "language": "python",
   "name": "python3"
  },
  "language_info": {
   "codemirror_mode": {
    "name": "ipython",
    "version": 3
   },
   "file_extension": ".py",
   "mimetype": "text/x-python",
   "name": "python",
   "nbconvert_exporter": "python",
   "pygments_lexer": "ipython3",
   "version": "3.12.3"
  }
 },
 "nbformat": 4,
 "nbformat_minor": 2
}
