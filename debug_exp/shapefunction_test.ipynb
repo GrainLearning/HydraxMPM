{
 "cells": [
  {
   "cell_type": "code",
   "execution_count": 1,
   "metadata": {},
   "outputs": [],
   "source": [
    "import jax.numpy as jnp\n",
    "import numpy as np\n",
    "\n",
    "\n",
    "import hydraxmpm as hdx\n",
    "import chex\n",
    "\n",
    "%load_ext autoreload\n",
    "%autoreload 2"
   ]
  },
  {
   "cell_type": "code",
   "execution_count": 2,
   "metadata": {},
   "outputs": [
    {
     "name": "stdout",
     "output_type": "stream",
     "text": [
      "Ignore the UserWarning from, the behavior is intended and expected.\n"
     ]
    },
    {
     "name": "stderr",
     "output_type": "stream",
     "text": [
      "/tmp/ipykernel_111774/1499691849.py:4: UserWarning: A JAX array is being set as static! This can result in unexpected behavior and is usually a mistake to do.\n",
      "  config = hdx.MPMConfig(\n",
      "/tmp/ipykernel_111774/1499691849.py:14: UserWarning: A JAX array is being set as static! This can result in unexpected behavior and is usually a mistake to do.\n",
      "  grid = hdx.GridStencilMap(config)\n"
     ]
    }
   ],
   "source": [
    "\n",
    "\n",
    "\n",
    "\n",
    "\"\"\"Test the linear shape function for top level container input.\"\"\"\n",
    "position_stack = jnp.array([[0.45, 0.21], [0.8, 0.4]])\n",
    "\n",
    "config = hdx.MPMConfig(\n",
    "    origin=[0.0, 0.0],\n",
    "    end=[\n",
    "        1.0,\n",
    "        1.0,\n",
    "    ],\n",
    "    cell_size=0.1,\n",
    "    num_points=len(position_stack),\n",
    "    shapefunction_type=\"linear\",\n",
    ")\n",
    "grid = hdx.GridStencilMap(config)\n",
    "\n",
    "grid = grid.partition(position_stack)\n",
    "\n",
    "particles = hdx.Particles(config, position_stack=position_stack)\n",
    "shapefunction = hdx.LinearShapeFunction(config)\n",
    "\n",
    "# shapefunction = shapefunction.update_from_particles(grid, particles)\n",
    "\n",
    "# expected_shapef_stack = jnp.array(\n",
    "#     [\n",
    "#         [0.45000005, 0.04999995, 0.45000005, 0.04999995],\n",
    "#         [1.0, 0.0, 0.0, 0.0],\n",
    "#     ]\n",
    "# )\n",
    "# np.testing.assert_allclose(expected_shapef_stack, shapefunction.shapef_stack)\n",
    "\n",
    "# np.testing.assert_allclose(\n",
    "#     jnp.prod(shapefunction.shapef_stack.flatten(), axis=0), 0\n",
    "# )\n",
    "\n",
    "# expected_shapef_grad_stack = jnp.array(\n",
    "#     [\n",
    "#         [\n",
    "#             [-9.000001, -5.0, 0.0],\n",
    "#             [-0.99999905, 5.0, 0.0],\n",
    "#             [9.000001, -5.0, 0.0],\n",
    "#             [0.99999905, 5.0, 0.0],\n",
    "#         ],\n",
    "#         [[-0.0, -0.0, 0.0], [-0.0, 0.0, 0.0], [0.0, -0.0, 0.0], [0.0, 0.0, 0.0]],\n",
    "#     ]\n",
    "# )\n",
    "\n",
    "# np.testing.assert_allclose(\n",
    "#     expected_shapef_grad_stack, shapefunction.shapef_grad_stack\n",
    "# )\n"
   ]
  },
  {
   "cell_type": "code",
   "execution_count": 3,
   "metadata": {},
   "outputs": [
    {
     "name": "stdout",
     "output_type": "stream",
     "text": [
      "{ \u001b[34m\u001b[22m\u001b[1mlambda \u001b[39m\u001b[22m\u001b[22m; a\u001b[35m:i32[121]\u001b[39m b\u001b[35m:i32[121]\u001b[39m c\u001b[35m:i32[121]\u001b[39m d\u001b[35m:i32[2]\u001b[39m e\u001b[35m:i32[2]\u001b[39m f\u001b[35m:i32[2]\u001b[39m g\u001b[35m:f32[2,2]\u001b[39m\n",
      "    h\u001b[35m:f32[2,2]\u001b[39m i\u001b[35m:f32[2,2]\u001b[39m j\u001b[35m:f32[2]\u001b[39m k\u001b[35m:f32[2]\u001b[39m l\u001b[35m:f32[]\u001b[39m m\u001b[35m:f32[2,3,3]\u001b[39m n\u001b[35m:f32[2,3,3]\u001b[39m o\u001b[35m:f32[2,3,3]\u001b[39m. \u001b[34m\u001b[22m\u001b[1mlet\n",
      "    \n",
      "  in \u001b[39m\u001b[22m\u001b[22m() }\n"
     ]
    }
   ],
   "source": [
    "from jax import make_jaxpr\n",
    "\n",
    "print(make_jaxpr(shapefunction.update_from_particles)(grid, particles))"
   ]
  },
  {
   "cell_type": "code",
   "execution_count": 7,
   "metadata": {},
   "outputs": [
    {
     "data": {
      "text/plain": [
       "{ \u001b[34m\u001b[22m\u001b[1mlambda \u001b[39m\u001b[22m\u001b[22m; a\u001b[35m:f32[2,3,3]\u001b[39m. \u001b[34m\u001b[22m\u001b[1mlet\n",
       "    \u001b[39m\u001b[22m\u001b[22mb\u001b[35m:f32[2]\u001b[39m = pjit[\n",
       "      name=trace\n",
       "      jaxpr={ \u001b[34m\u001b[22m\u001b[1mlambda \u001b[39m\u001b[22m\u001b[22m; c\u001b[35m:f32[2,3,3]\u001b[39m. \u001b[34m\u001b[22m\u001b[1mlet\n",
       "          \u001b[39m\u001b[22m\u001b[22md\u001b[35m:i32[3,3]\u001b[39m = iota[dimension=0 dtype=int32 shape=(3, 3) sharding=None] \n",
       "          e\u001b[35m:i32[3,3]\u001b[39m = iota[dimension=1 dtype=int32 shape=(3, 3) sharding=None] \n",
       "          f\u001b[35m:i32[3,3]\u001b[39m = add d 0\n",
       "          g\u001b[35m:bool[3,3]\u001b[39m = eq f e\n",
       "          h\u001b[35m:f32[3,3]\u001b[39m = broadcast_in_dim[broadcast_dimensions=() shape=(3, 3)] 0.0\n",
       "          i\u001b[35m:f32[2,3,3]\u001b[39m = pjit[\n",
       "            name=_where\n",
       "            jaxpr={ \u001b[34m\u001b[22m\u001b[1mlambda \u001b[39m\u001b[22m\u001b[22m; j\u001b[35m:bool[3,3]\u001b[39m k\u001b[35m:f32[2,3,3]\u001b[39m l\u001b[35m:f32[3,3]\u001b[39m. \u001b[34m\u001b[22m\u001b[1mlet\n",
       "                \u001b[39m\u001b[22m\u001b[22mm\u001b[35m:bool[2,3,3]\u001b[39m = broadcast_in_dim[\n",
       "                  broadcast_dimensions=(1, 2)\n",
       "                  shape=(2, 3, 3)\n",
       "                ] j\n",
       "                n\u001b[35m:f32[2,3,3]\u001b[39m = broadcast_in_dim[\n",
       "                  broadcast_dimensions=(1, 2)\n",
       "                  shape=(2, 3, 3)\n",
       "                ] l\n",
       "                o\u001b[35m:f32[2,3,3]\u001b[39m = select_n m n k\n",
       "              \u001b[34m\u001b[22m\u001b[1min \u001b[39m\u001b[22m\u001b[22m(o,) }\n",
       "          ] g c h\n",
       "          p\u001b[35m:f32[2]\u001b[39m = reduce_sum[axes=(1, 2)] i\n",
       "        \u001b[34m\u001b[22m\u001b[1min \u001b[39m\u001b[22m\u001b[22m(p,) }\n",
       "    ] a\n",
       "    q\u001b[35m:f32[2]\u001b[39m = mul -0.3333333432674408 b\n",
       "  \u001b[34m\u001b[22m\u001b[1min \u001b[39m\u001b[22m\u001b[22m(q,) }"
      ]
     },
     "execution_count": 7,
     "metadata": {},
     "output_type": "execute_result"
    }
   ],
   "source": [
    "hdx.get_pressure_stack(particles.stress_stack)\n",
    "\n",
    "make_jaxpr(hdx.get_pressure_stack)(particles.stress_stack)"
   ]
  },
  {
   "cell_type": "code",
   "execution_count": null,
   "metadata": {},
   "outputs": [],
   "source": []
  },
  {
   "cell_type": "code",
   "execution_count": null,
   "metadata": {},
   "outputs": [],
   "source": []
  },
  {
   "cell_type": "code",
   "execution_count": null,
   "metadata": {},
   "outputs": [],
   "source": []
  }
 ],
 "metadata": {
  "kernelspec": {
   "display_name": ".venv",
   "language": "python",
   "name": "python3"
  },
  "language_info": {
   "codemirror_mode": {
    "name": "ipython",
    "version": 3
   },
   "file_extension": ".py",
   "mimetype": "text/x-python",
   "name": "python",
   "nbconvert_exporter": "python",
   "pygments_lexer": "ipython3",
   "version": "3.10.12"
  }
 },
 "nbformat": 4,
 "nbformat_minor": 2
}
